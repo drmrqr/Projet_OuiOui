{
 "cells": [
  {
   "cell_type": "markdown",
   "metadata": {},
   "source": [
    "# Projet Oui-Oui | Durmarque & Diliberto SID23\n",
    "--- \n",
    "---"
   ]
  },
  {
   "cell_type": "markdown",
   "metadata": {
    "id": "TSGuGqAAtdL-"
   },
   "source": [
    "# Importation des modules nécessaires au chargement et au traitement des données\n",
    "---\n"
   ]
  },
  {
   "cell_type": "code",
   "execution_count": 150,
   "metadata": {},
   "outputs": [
    {
     "name": "stdout",
     "output_type": "stream",
     "text": [
      "Requirement already satisfied: pyarrow in c:\\users\\lucas\\anaconda3\\lib\\site-packages (12.0.1)\n",
      "Requirement already satisfied: numpy>=1.16.6 in c:\\users\\lucas\\anaconda3\\lib\\site-packages (from pyarrow) (1.21.5)\n"
     ]
    }
   ],
   "source": [
    "!pip install pyarrow"
   ]
  },
  {
   "cell_type": "code",
   "execution_count": 151,
   "metadata": {
    "id": "p28ASsEEtg3g"
   },
   "outputs": [],
   "source": [
    "import pyarrow.parquet as pq\n",
    "import pandas as pd\n",
    "import numpy as np\n",
    "#from google.colab import drive"
   ]
  },
  {
   "cell_type": "markdown",
   "metadata": {
    "id": "YzPDQF5-S1FY"
   },
   "source": [
    "# CHARGEMENT DES DONNEES et Analyse des données\n",
    "---\n",
    "\n",
    "\n"
   ]
  },
  {
   "cell_type": "markdown",
   "metadata": {},
   "source": [
    "### Code à utiliser sous Google-Collab afin de collaborer :)"
   ]
  },
  {
   "cell_type": "code",
   "execution_count": 152,
   "metadata": {
    "colab": {
     "base_uri": "https://localhost:8080/"
    },
    "id": "3hQtLfEAbpA2",
    "outputId": "71eeb0ac-dc5c-45df-e51e-18648fc58db4"
   },
   "outputs": [],
   "source": [
    "#drive.mount('/content/drive')"
   ]
  },
  {
   "cell_type": "code",
   "execution_count": 153,
   "metadata": {
    "colab": {
     "base_uri": "https://localhost:8080/"
    },
    "id": "x0V2HzYybvzJ",
    "outputId": "270f719e-c7d2-49f8-a94f-3780bb27f0fe"
   },
   "outputs": [],
   "source": [
    "# Import des données par le drive - LUCAS\n",
    "# drive.mount('/content/drive')\n",
    "#chemin_fichier = \"/content/drive/MyDrive/Études/LP/S6/Projet Tutoré - Python | SELLAMI   LEVELLER/RDLD - Partie 2 - Oui-oui/yellow_tripdata_2023-03.parquet\""
   ]
  },
  {
   "cell_type": "code",
   "execution_count": 154,
   "metadata": {
    "colab": {
     "base_uri": "https://localhost:8080/"
    },
    "id": "Kw3_-fNLb1yp",
    "outputId": "f8e52c22-9c38-4a57-e370-5bf9d4fe41e2"
   },
   "outputs": [],
   "source": [
    "# Import des données par le drive - RAPHAEL\n",
    "#drive.mount('/content/drive')\n",
    "#chemin_fichier = \"/content/drive/MyDrive/LP/S6/Projet Tutoré - Python | SELLAMI   LEVELLER/RDLD - Partie 2 - Oui-oui/yellow_tripdata_2023-03.parquet\""
   ]
  },
  {
   "cell_type": "code",
   "execution_count": 155,
   "metadata": {},
   "outputs": [],
   "source": [
    "# Lecture du fichier Parquet - Google Collab\n",
    "#table = pq.read_table(chemin_fichier)"
   ]
  },
  {
   "cell_type": "markdown",
   "metadata": {},
   "source": [
    "---"
   ]
  },
  {
   "cell_type": "code",
   "execution_count": 156,
   "metadata": {
    "id": "0LFubX87AbtC"
   },
   "outputs": [],
   "source": [
    "# Lecture du fichier Parquet - Jupyter\n",
    "table = pq.read_table(\"yellow_tripdata_2023-03.parquet\")\n",
    "\n",
    "# Conversion de la table en DataFrame pandas\n",
    "dataframe = table.to_pandas()"
   ]
  },
  {
   "cell_type": "code",
   "execution_count": 157,
   "metadata": {
    "colab": {
     "base_uri": "https://localhost:8080/"
    },
    "id": "uyp9sieXyQcC",
    "outputId": "2f946ade-ee0f-49c0-c397-a2b0c70c13c9"
   },
   "outputs": [
    {
     "name": "stdout",
     "output_type": "stream",
     "text": [
      "Nombre de \"lignes\" = 3403766\n",
      "Nombre d'attributs = 19\n"
     ]
    }
   ],
   "source": [
    "# Chiffrage du jeu de données\n",
    "print('Nombre de \"lignes\" = %d' % (dataframe.shape[0]))\n",
    "print('Nombre d\\'attributs = %d' % (dataframe.shape[1]))"
   ]
  },
  {
   "cell_type": "code",
   "execution_count": 158,
   "metadata": {
    "colab": {
     "base_uri": "https://localhost:8080/",
     "height": 381
    },
    "id": "xYfPuvPMSapW",
    "outputId": "28f4ce8d-cf30-4c3e-a558-e9ddce272f5a"
   },
   "outputs": [
    {
     "data": {
      "text/html": [
       "<div>\n",
       "<style scoped>\n",
       "    .dataframe tbody tr th:only-of-type {\n",
       "        vertical-align: middle;\n",
       "    }\n",
       "\n",
       "    .dataframe tbody tr th {\n",
       "        vertical-align: top;\n",
       "    }\n",
       "\n",
       "    .dataframe thead th {\n",
       "        text-align: right;\n",
       "    }\n",
       "</style>\n",
       "<table border=\"1\" class=\"dataframe\">\n",
       "  <thead>\n",
       "    <tr style=\"text-align: right;\">\n",
       "      <th></th>\n",
       "      <th>VendorID</th>\n",
       "      <th>passenger_count</th>\n",
       "      <th>trip_distance</th>\n",
       "      <th>RatecodeID</th>\n",
       "      <th>PULocationID</th>\n",
       "      <th>DOLocationID</th>\n",
       "      <th>payment_type</th>\n",
       "      <th>fare_amount</th>\n",
       "      <th>extra</th>\n",
       "      <th>mta_tax</th>\n",
       "      <th>tip_amount</th>\n",
       "      <th>tolls_amount</th>\n",
       "      <th>improvement_surcharge</th>\n",
       "      <th>total_amount</th>\n",
       "      <th>congestion_surcharge</th>\n",
       "      <th>Airport_fee</th>\n",
       "    </tr>\n",
       "  </thead>\n",
       "  <tbody>\n",
       "    <tr>\n",
       "      <th>count</th>\n",
       "      <td>3.403766e+06</td>\n",
       "      <td>3.316147e+06</td>\n",
       "      <td>3.403766e+06</td>\n",
       "      <td>3.316147e+06</td>\n",
       "      <td>3.403766e+06</td>\n",
       "      <td>3.403766e+06</td>\n",
       "      <td>3.403766e+06</td>\n",
       "      <td>3.403766e+06</td>\n",
       "      <td>3.403766e+06</td>\n",
       "      <td>3.403766e+06</td>\n",
       "      <td>3.403766e+06</td>\n",
       "      <td>3.403766e+06</td>\n",
       "      <td>3.403766e+06</td>\n",
       "      <td>3.403766e+06</td>\n",
       "      <td>3.316147e+06</td>\n",
       "      <td>3.316147e+06</td>\n",
       "    </tr>\n",
       "    <tr>\n",
       "      <th>mean</th>\n",
       "      <td>1.725320e+00</td>\n",
       "      <td>1.351417e+00</td>\n",
       "      <td>3.903871e+00</td>\n",
       "      <td>1.623961e+00</td>\n",
       "      <td>1.654540e+02</td>\n",
       "      <td>1.641003e+02</td>\n",
       "      <td>1.187310e+00</td>\n",
       "      <td>1.890845e+01</td>\n",
       "      <td>1.629128e+00</td>\n",
       "      <td>4.874393e-01</td>\n",
       "      <td>3.495237e+00</td>\n",
       "      <td>5.670059e-01</td>\n",
       "      <td>9.810640e-01</td>\n",
       "      <td>2.780343e+01</td>\n",
       "      <td>2.275176e+00</td>\n",
       "      <td>1.040236e-01</td>\n",
       "    </tr>\n",
       "    <tr>\n",
       "      <th>std</th>\n",
       "      <td>4.588677e-01</td>\n",
       "      <td>8.861919e-01</td>\n",
       "      <td>1.916866e+02</td>\n",
       "      <td>7.358691e+00</td>\n",
       "      <td>6.373958e+01</td>\n",
       "      <td>6.967282e+01</td>\n",
       "      <td>5.334025e-01</td>\n",
       "      <td>1.825637e+01</td>\n",
       "      <td>1.842778e+00</td>\n",
       "      <td>1.020516e-01</td>\n",
       "      <td>3.996473e+00</td>\n",
       "      <td>2.121658e+00</td>\n",
       "      <td>1.892314e-01</td>\n",
       "      <td>2.286614e+01</td>\n",
       "      <td>7.745563e-01</td>\n",
       "      <td>3.503260e-01</td>\n",
       "    </tr>\n",
       "    <tr>\n",
       "      <th>min</th>\n",
       "      <td>1.000000e+00</td>\n",
       "      <td>0.000000e+00</td>\n",
       "      <td>0.000000e+00</td>\n",
       "      <td>1.000000e+00</td>\n",
       "      <td>1.000000e+00</td>\n",
       "      <td>1.000000e+00</td>\n",
       "      <td>0.000000e+00</td>\n",
       "      <td>-9.599000e+02</td>\n",
       "      <td>-7.500000e+00</td>\n",
       "      <td>-5.000000e-01</td>\n",
       "      <td>-8.000000e+01</td>\n",
       "      <td>-7.330000e+01</td>\n",
       "      <td>-1.000000e+00</td>\n",
       "      <td>-9.829500e+02</td>\n",
       "      <td>-2.500000e+00</td>\n",
       "      <td>-1.250000e+00</td>\n",
       "    </tr>\n",
       "    <tr>\n",
       "      <th>25%</th>\n",
       "      <td>1.000000e+00</td>\n",
       "      <td>1.000000e+00</td>\n",
       "      <td>1.050000e+00</td>\n",
       "      <td>1.000000e+00</td>\n",
       "      <td>1.320000e+02</td>\n",
       "      <td>1.140000e+02</td>\n",
       "      <td>1.000000e+00</td>\n",
       "      <td>9.300000e+00</td>\n",
       "      <td>0.000000e+00</td>\n",
       "      <td>5.000000e-01</td>\n",
       "      <td>1.000000e+00</td>\n",
       "      <td>0.000000e+00</td>\n",
       "      <td>1.000000e+00</td>\n",
       "      <td>1.570000e+01</td>\n",
       "      <td>2.500000e+00</td>\n",
       "      <td>0.000000e+00</td>\n",
       "    </tr>\n",
       "    <tr>\n",
       "      <th>50%</th>\n",
       "      <td>2.000000e+00</td>\n",
       "      <td>1.000000e+00</td>\n",
       "      <td>1.790000e+00</td>\n",
       "      <td>1.000000e+00</td>\n",
       "      <td>1.620000e+02</td>\n",
       "      <td>1.620000e+02</td>\n",
       "      <td>1.000000e+00</td>\n",
       "      <td>1.350000e+01</td>\n",
       "      <td>1.000000e+00</td>\n",
       "      <td>5.000000e-01</td>\n",
       "      <td>2.800000e+00</td>\n",
       "      <td>0.000000e+00</td>\n",
       "      <td>1.000000e+00</td>\n",
       "      <td>2.060000e+01</td>\n",
       "      <td>2.500000e+00</td>\n",
       "      <td>0.000000e+00</td>\n",
       "    </tr>\n",
       "    <tr>\n",
       "      <th>75%</th>\n",
       "      <td>2.000000e+00</td>\n",
       "      <td>1.000000e+00</td>\n",
       "      <td>3.380000e+00</td>\n",
       "      <td>1.000000e+00</td>\n",
       "      <td>2.330000e+02</td>\n",
       "      <td>2.340000e+02</td>\n",
       "      <td>1.000000e+00</td>\n",
       "      <td>2.120000e+01</td>\n",
       "      <td>2.500000e+00</td>\n",
       "      <td>5.000000e-01</td>\n",
       "      <td>4.340000e+00</td>\n",
       "      <td>0.000000e+00</td>\n",
       "      <td>1.000000e+00</td>\n",
       "      <td>2.976000e+01</td>\n",
       "      <td>2.500000e+00</td>\n",
       "      <td>0.000000e+00</td>\n",
       "    </tr>\n",
       "    <tr>\n",
       "      <th>max</th>\n",
       "      <td>6.000000e+00</td>\n",
       "      <td>9.000000e+00</td>\n",
       "      <td>2.169870e+05</td>\n",
       "      <td>9.900000e+01</td>\n",
       "      <td>2.650000e+02</td>\n",
       "      <td>2.650000e+02</td>\n",
       "      <td>5.000000e+00</td>\n",
       "      <td>2.100000e+03</td>\n",
       "      <td>1.375000e+01</td>\n",
       "      <td>4.000000e+00</td>\n",
       "      <td>9.843000e+02</td>\n",
       "      <td>1.770000e+02</td>\n",
       "      <td>1.000000e+00</td>\n",
       "      <td>2.100000e+03</td>\n",
       "      <td>2.500000e+00</td>\n",
       "      <td>1.250000e+00</td>\n",
       "    </tr>\n",
       "  </tbody>\n",
       "</table>\n",
       "</div>"
      ],
      "text/plain": [
       "           VendorID  passenger_count  trip_distance    RatecodeID  \\\n",
       "count  3.403766e+06     3.316147e+06   3.403766e+06  3.316147e+06   \n",
       "mean   1.725320e+00     1.351417e+00   3.903871e+00  1.623961e+00   \n",
       "std    4.588677e-01     8.861919e-01   1.916866e+02  7.358691e+00   \n",
       "min    1.000000e+00     0.000000e+00   0.000000e+00  1.000000e+00   \n",
       "25%    1.000000e+00     1.000000e+00   1.050000e+00  1.000000e+00   \n",
       "50%    2.000000e+00     1.000000e+00   1.790000e+00  1.000000e+00   \n",
       "75%    2.000000e+00     1.000000e+00   3.380000e+00  1.000000e+00   \n",
       "max    6.000000e+00     9.000000e+00   2.169870e+05  9.900000e+01   \n",
       "\n",
       "       PULocationID  DOLocationID  payment_type   fare_amount         extra  \\\n",
       "count  3.403766e+06  3.403766e+06  3.403766e+06  3.403766e+06  3.403766e+06   \n",
       "mean   1.654540e+02  1.641003e+02  1.187310e+00  1.890845e+01  1.629128e+00   \n",
       "std    6.373958e+01  6.967282e+01  5.334025e-01  1.825637e+01  1.842778e+00   \n",
       "min    1.000000e+00  1.000000e+00  0.000000e+00 -9.599000e+02 -7.500000e+00   \n",
       "25%    1.320000e+02  1.140000e+02  1.000000e+00  9.300000e+00  0.000000e+00   \n",
       "50%    1.620000e+02  1.620000e+02  1.000000e+00  1.350000e+01  1.000000e+00   \n",
       "75%    2.330000e+02  2.340000e+02  1.000000e+00  2.120000e+01  2.500000e+00   \n",
       "max    2.650000e+02  2.650000e+02  5.000000e+00  2.100000e+03  1.375000e+01   \n",
       "\n",
       "            mta_tax    tip_amount  tolls_amount  improvement_surcharge  \\\n",
       "count  3.403766e+06  3.403766e+06  3.403766e+06           3.403766e+06   \n",
       "mean   4.874393e-01  3.495237e+00  5.670059e-01           9.810640e-01   \n",
       "std    1.020516e-01  3.996473e+00  2.121658e+00           1.892314e-01   \n",
       "min   -5.000000e-01 -8.000000e+01 -7.330000e+01          -1.000000e+00   \n",
       "25%    5.000000e-01  1.000000e+00  0.000000e+00           1.000000e+00   \n",
       "50%    5.000000e-01  2.800000e+00  0.000000e+00           1.000000e+00   \n",
       "75%    5.000000e-01  4.340000e+00  0.000000e+00           1.000000e+00   \n",
       "max    4.000000e+00  9.843000e+02  1.770000e+02           1.000000e+00   \n",
       "\n",
       "       total_amount  congestion_surcharge   Airport_fee  \n",
       "count  3.403766e+06          3.316147e+06  3.316147e+06  \n",
       "mean   2.780343e+01          2.275176e+00  1.040236e-01  \n",
       "std    2.286614e+01          7.745563e-01  3.503260e-01  \n",
       "min   -9.829500e+02         -2.500000e+00 -1.250000e+00  \n",
       "25%    1.570000e+01          2.500000e+00  0.000000e+00  \n",
       "50%    2.060000e+01          2.500000e+00  0.000000e+00  \n",
       "75%    2.976000e+01          2.500000e+00  0.000000e+00  \n",
       "max    2.100000e+03          2.500000e+00  1.250000e+00  "
      ]
     },
     "execution_count": 158,
     "metadata": {},
     "output_type": "execute_result"
    }
   ],
   "source": [
    "dataframe.describe()"
   ]
  },
  {
   "cell_type": "code",
   "execution_count": 159,
   "metadata": {
    "colab": {
     "base_uri": "https://localhost:8080/"
    },
    "id": "jTH939Y1W3Zd",
    "outputId": "8adfd3d2-feda-4f63-ecbc-54163968c5be"
   },
   "outputs": [
    {
     "name": "stdout",
     "output_type": "stream",
     "text": [
      "<class 'pandas.core.frame.DataFrame'>\n",
      "RangeIndex: 3403766 entries, 0 to 3403765\n",
      "Data columns (total 19 columns):\n",
      " #   Column                 Dtype         \n",
      "---  ------                 -----         \n",
      " 0   VendorID               int32         \n",
      " 1   tpep_pickup_datetime   datetime64[ns]\n",
      " 2   tpep_dropoff_datetime  datetime64[ns]\n",
      " 3   passenger_count        float64       \n",
      " 4   trip_distance          float64       \n",
      " 5   RatecodeID             float64       \n",
      " 6   store_and_fwd_flag     object        \n",
      " 7   PULocationID           int32         \n",
      " 8   DOLocationID           int32         \n",
      " 9   payment_type           int64         \n",
      " 10  fare_amount            float64       \n",
      " 11  extra                  float64       \n",
      " 12  mta_tax                float64       \n",
      " 13  tip_amount             float64       \n",
      " 14  tolls_amount           float64       \n",
      " 15  improvement_surcharge  float64       \n",
      " 16  total_amount           float64       \n",
      " 17  congestion_surcharge   float64       \n",
      " 18  Airport_fee            float64       \n",
      "dtypes: datetime64[ns](2), float64(12), int32(3), int64(1), object(1)\n",
      "memory usage: 454.5+ MB\n"
     ]
    }
   ],
   "source": [
    "dataframe.info()"
   ]
  },
  {
   "cell_type": "code",
   "execution_count": 160,
   "metadata": {
    "colab": {
     "base_uri": "https://localhost:8080/",
     "height": 270
    },
    "id": "3oMy52_8Wi1x",
    "outputId": "03044c9c-7710-47fa-a5d6-b8beddd5c27d"
   },
   "outputs": [
    {
     "data": {
      "text/html": [
       "<div>\n",
       "<style scoped>\n",
       "    .dataframe tbody tr th:only-of-type {\n",
       "        vertical-align: middle;\n",
       "    }\n",
       "\n",
       "    .dataframe tbody tr th {\n",
       "        vertical-align: top;\n",
       "    }\n",
       "\n",
       "    .dataframe thead th {\n",
       "        text-align: right;\n",
       "    }\n",
       "</style>\n",
       "<table border=\"1\" class=\"dataframe\">\n",
       "  <thead>\n",
       "    <tr style=\"text-align: right;\">\n",
       "      <th></th>\n",
       "      <th>VendorID</th>\n",
       "      <th>tpep_pickup_datetime</th>\n",
       "      <th>tpep_dropoff_datetime</th>\n",
       "      <th>passenger_count</th>\n",
       "      <th>trip_distance</th>\n",
       "      <th>RatecodeID</th>\n",
       "      <th>store_and_fwd_flag</th>\n",
       "      <th>PULocationID</th>\n",
       "      <th>DOLocationID</th>\n",
       "      <th>payment_type</th>\n",
       "      <th>fare_amount</th>\n",
       "      <th>extra</th>\n",
       "      <th>mta_tax</th>\n",
       "      <th>tip_amount</th>\n",
       "      <th>tolls_amount</th>\n",
       "      <th>improvement_surcharge</th>\n",
       "      <th>total_amount</th>\n",
       "      <th>congestion_surcharge</th>\n",
       "      <th>Airport_fee</th>\n",
       "    </tr>\n",
       "  </thead>\n",
       "  <tbody>\n",
       "    <tr>\n",
       "      <th>0</th>\n",
       "      <td>2</td>\n",
       "      <td>2023-03-01 00:06:43</td>\n",
       "      <td>2023-03-01 00:16:43</td>\n",
       "      <td>1.0</td>\n",
       "      <td>0.00</td>\n",
       "      <td>1.0</td>\n",
       "      <td>N</td>\n",
       "      <td>238</td>\n",
       "      <td>42</td>\n",
       "      <td>2</td>\n",
       "      <td>8.6</td>\n",
       "      <td>1.0</td>\n",
       "      <td>0.5</td>\n",
       "      <td>0.00</td>\n",
       "      <td>0.0</td>\n",
       "      <td>1.0</td>\n",
       "      <td>11.10</td>\n",
       "      <td>0.0</td>\n",
       "      <td>0.00</td>\n",
       "    </tr>\n",
       "    <tr>\n",
       "      <th>1</th>\n",
       "      <td>2</td>\n",
       "      <td>2023-03-01 00:08:25</td>\n",
       "      <td>2023-03-01 00:39:30</td>\n",
       "      <td>2.0</td>\n",
       "      <td>12.40</td>\n",
       "      <td>1.0</td>\n",
       "      <td>N</td>\n",
       "      <td>138</td>\n",
       "      <td>231</td>\n",
       "      <td>1</td>\n",
       "      <td>52.7</td>\n",
       "      <td>6.0</td>\n",
       "      <td>0.5</td>\n",
       "      <td>12.54</td>\n",
       "      <td>0.0</td>\n",
       "      <td>1.0</td>\n",
       "      <td>76.49</td>\n",
       "      <td>2.5</td>\n",
       "      <td>1.25</td>\n",
       "    </tr>\n",
       "    <tr>\n",
       "      <th>2</th>\n",
       "      <td>1</td>\n",
       "      <td>2023-03-01 00:15:04</td>\n",
       "      <td>2023-03-01 00:29:26</td>\n",
       "      <td>0.0</td>\n",
       "      <td>3.30</td>\n",
       "      <td>1.0</td>\n",
       "      <td>N</td>\n",
       "      <td>140</td>\n",
       "      <td>186</td>\n",
       "      <td>1</td>\n",
       "      <td>18.4</td>\n",
       "      <td>3.5</td>\n",
       "      <td>0.5</td>\n",
       "      <td>4.65</td>\n",
       "      <td>0.0</td>\n",
       "      <td>1.0</td>\n",
       "      <td>28.05</td>\n",
       "      <td>2.5</td>\n",
       "      <td>0.00</td>\n",
       "    </tr>\n",
       "    <tr>\n",
       "      <th>3</th>\n",
       "      <td>1</td>\n",
       "      <td>2023-03-01 00:49:37</td>\n",
       "      <td>2023-03-01 01:01:05</td>\n",
       "      <td>1.0</td>\n",
       "      <td>2.90</td>\n",
       "      <td>1.0</td>\n",
       "      <td>N</td>\n",
       "      <td>140</td>\n",
       "      <td>43</td>\n",
       "      <td>1</td>\n",
       "      <td>15.6</td>\n",
       "      <td>3.5</td>\n",
       "      <td>0.5</td>\n",
       "      <td>4.10</td>\n",
       "      <td>0.0</td>\n",
       "      <td>1.0</td>\n",
       "      <td>24.70</td>\n",
       "      <td>2.5</td>\n",
       "      <td>0.00</td>\n",
       "    </tr>\n",
       "    <tr>\n",
       "      <th>4</th>\n",
       "      <td>2</td>\n",
       "      <td>2023-03-01 00:08:04</td>\n",
       "      <td>2023-03-01 00:11:06</td>\n",
       "      <td>1.0</td>\n",
       "      <td>1.23</td>\n",
       "      <td>1.0</td>\n",
       "      <td>N</td>\n",
       "      <td>79</td>\n",
       "      <td>137</td>\n",
       "      <td>1</td>\n",
       "      <td>7.2</td>\n",
       "      <td>1.0</td>\n",
       "      <td>0.5</td>\n",
       "      <td>2.44</td>\n",
       "      <td>0.0</td>\n",
       "      <td>1.0</td>\n",
       "      <td>14.64</td>\n",
       "      <td>2.5</td>\n",
       "      <td>0.00</td>\n",
       "    </tr>\n",
       "  </tbody>\n",
       "</table>\n",
       "</div>"
      ],
      "text/plain": [
       "   VendorID tpep_pickup_datetime tpep_dropoff_datetime  passenger_count  \\\n",
       "0         2  2023-03-01 00:06:43   2023-03-01 00:16:43              1.0   \n",
       "1         2  2023-03-01 00:08:25   2023-03-01 00:39:30              2.0   \n",
       "2         1  2023-03-01 00:15:04   2023-03-01 00:29:26              0.0   \n",
       "3         1  2023-03-01 00:49:37   2023-03-01 01:01:05              1.0   \n",
       "4         2  2023-03-01 00:08:04   2023-03-01 00:11:06              1.0   \n",
       "\n",
       "   trip_distance  RatecodeID store_and_fwd_flag  PULocationID  DOLocationID  \\\n",
       "0           0.00         1.0                  N           238            42   \n",
       "1          12.40         1.0                  N           138           231   \n",
       "2           3.30         1.0                  N           140           186   \n",
       "3           2.90         1.0                  N           140            43   \n",
       "4           1.23         1.0                  N            79           137   \n",
       "\n",
       "   payment_type  fare_amount  extra  mta_tax  tip_amount  tolls_amount  \\\n",
       "0             2          8.6    1.0      0.5        0.00           0.0   \n",
       "1             1         52.7    6.0      0.5       12.54           0.0   \n",
       "2             1         18.4    3.5      0.5        4.65           0.0   \n",
       "3             1         15.6    3.5      0.5        4.10           0.0   \n",
       "4             1          7.2    1.0      0.5        2.44           0.0   \n",
       "\n",
       "   improvement_surcharge  total_amount  congestion_surcharge  Airport_fee  \n",
       "0                    1.0         11.10                   0.0         0.00  \n",
       "1                    1.0         76.49                   2.5         1.25  \n",
       "2                    1.0         28.05                   2.5         0.00  \n",
       "3                    1.0         24.70                   2.5         0.00  \n",
       "4                    1.0         14.64                   2.5         0.00  "
      ]
     },
     "execution_count": 160,
     "metadata": {},
     "output_type": "execute_result"
    }
   ],
   "source": [
    "dataframe.head()"
   ]
  },
  {
   "cell_type": "markdown",
   "metadata": {
    "id": "JC8u4cH_fsRD"
   },
   "source": [
    "# NETTOYAGE DES DONNÉES ET TRAITEMENT DES VALEURS MANQUANTES\n",
    "---\n"
   ]
  },
  {
   "cell_type": "code",
   "execution_count": 161,
   "metadata": {},
   "outputs": [
    {
     "data": {
      "text/html": [
       "<div>\n",
       "<style scoped>\n",
       "    .dataframe tbody tr th:only-of-type {\n",
       "        vertical-align: middle;\n",
       "    }\n",
       "\n",
       "    .dataframe tbody tr th {\n",
       "        vertical-align: top;\n",
       "    }\n",
       "\n",
       "    .dataframe thead th {\n",
       "        text-align: right;\n",
       "    }\n",
       "</style>\n",
       "<table border=\"1\" class=\"dataframe\">\n",
       "  <thead>\n",
       "    <tr style=\"text-align: right;\">\n",
       "      <th></th>\n",
       "      <th>VendorID</th>\n",
       "      <th>tpep_pickup_datetime</th>\n",
       "      <th>tpep_dropoff_datetime</th>\n",
       "      <th>passenger_count</th>\n",
       "      <th>trip_distance</th>\n",
       "      <th>RatecodeID</th>\n",
       "      <th>store_and_fwd_flag</th>\n",
       "      <th>PULocationID</th>\n",
       "      <th>DOLocationID</th>\n",
       "      <th>payment_type</th>\n",
       "      <th>fare_amount</th>\n",
       "      <th>extra</th>\n",
       "      <th>mta_tax</th>\n",
       "      <th>tip_amount</th>\n",
       "      <th>tolls_amount</th>\n",
       "      <th>improvement_surcharge</th>\n",
       "      <th>total_amount</th>\n",
       "      <th>congestion_surcharge</th>\n",
       "      <th>Airport_fee</th>\n",
       "    </tr>\n",
       "  </thead>\n",
       "  <tbody>\n",
       "    <tr>\n",
       "      <th>0</th>\n",
       "      <td>2</td>\n",
       "      <td>2023-03-01 00:06:43</td>\n",
       "      <td>2023-03-01 00:16:43</td>\n",
       "      <td>1.0</td>\n",
       "      <td>0.00</td>\n",
       "      <td>1.0</td>\n",
       "      <td>N</td>\n",
       "      <td>238</td>\n",
       "      <td>42</td>\n",
       "      <td>2</td>\n",
       "      <td>8.6</td>\n",
       "      <td>1.0</td>\n",
       "      <td>0.5</td>\n",
       "      <td>0.00</td>\n",
       "      <td>0.0</td>\n",
       "      <td>1.0</td>\n",
       "      <td>11.10</td>\n",
       "      <td>0.0</td>\n",
       "      <td>0.00</td>\n",
       "    </tr>\n",
       "    <tr>\n",
       "      <th>1</th>\n",
       "      <td>2</td>\n",
       "      <td>2023-03-01 00:08:25</td>\n",
       "      <td>2023-03-01 00:39:30</td>\n",
       "      <td>2.0</td>\n",
       "      <td>12.40</td>\n",
       "      <td>1.0</td>\n",
       "      <td>N</td>\n",
       "      <td>138</td>\n",
       "      <td>231</td>\n",
       "      <td>1</td>\n",
       "      <td>52.7</td>\n",
       "      <td>6.0</td>\n",
       "      <td>0.5</td>\n",
       "      <td>12.54</td>\n",
       "      <td>0.0</td>\n",
       "      <td>1.0</td>\n",
       "      <td>76.49</td>\n",
       "      <td>2.5</td>\n",
       "      <td>1.25</td>\n",
       "    </tr>\n",
       "    <tr>\n",
       "      <th>2</th>\n",
       "      <td>1</td>\n",
       "      <td>2023-03-01 00:15:04</td>\n",
       "      <td>2023-03-01 00:29:26</td>\n",
       "      <td>0.0</td>\n",
       "      <td>3.30</td>\n",
       "      <td>1.0</td>\n",
       "      <td>N</td>\n",
       "      <td>140</td>\n",
       "      <td>186</td>\n",
       "      <td>1</td>\n",
       "      <td>18.4</td>\n",
       "      <td>3.5</td>\n",
       "      <td>0.5</td>\n",
       "      <td>4.65</td>\n",
       "      <td>0.0</td>\n",
       "      <td>1.0</td>\n",
       "      <td>28.05</td>\n",
       "      <td>2.5</td>\n",
       "      <td>0.00</td>\n",
       "    </tr>\n",
       "    <tr>\n",
       "      <th>3</th>\n",
       "      <td>1</td>\n",
       "      <td>2023-03-01 00:49:37</td>\n",
       "      <td>2023-03-01 01:01:05</td>\n",
       "      <td>1.0</td>\n",
       "      <td>2.90</td>\n",
       "      <td>1.0</td>\n",
       "      <td>N</td>\n",
       "      <td>140</td>\n",
       "      <td>43</td>\n",
       "      <td>1</td>\n",
       "      <td>15.6</td>\n",
       "      <td>3.5</td>\n",
       "      <td>0.5</td>\n",
       "      <td>4.10</td>\n",
       "      <td>0.0</td>\n",
       "      <td>1.0</td>\n",
       "      <td>24.70</td>\n",
       "      <td>2.5</td>\n",
       "      <td>0.00</td>\n",
       "    </tr>\n",
       "    <tr>\n",
       "      <th>4</th>\n",
       "      <td>2</td>\n",
       "      <td>2023-03-01 00:08:04</td>\n",
       "      <td>2023-03-01 00:11:06</td>\n",
       "      <td>1.0</td>\n",
       "      <td>1.23</td>\n",
       "      <td>1.0</td>\n",
       "      <td>N</td>\n",
       "      <td>79</td>\n",
       "      <td>137</td>\n",
       "      <td>1</td>\n",
       "      <td>7.2</td>\n",
       "      <td>1.0</td>\n",
       "      <td>0.5</td>\n",
       "      <td>2.44</td>\n",
       "      <td>0.0</td>\n",
       "      <td>1.0</td>\n",
       "      <td>14.64</td>\n",
       "      <td>2.5</td>\n",
       "      <td>0.00</td>\n",
       "    </tr>\n",
       "  </tbody>\n",
       "</table>\n",
       "</div>"
      ],
      "text/plain": [
       "   VendorID tpep_pickup_datetime tpep_dropoff_datetime  passenger_count  \\\n",
       "0         2  2023-03-01 00:06:43   2023-03-01 00:16:43              1.0   \n",
       "1         2  2023-03-01 00:08:25   2023-03-01 00:39:30              2.0   \n",
       "2         1  2023-03-01 00:15:04   2023-03-01 00:29:26              0.0   \n",
       "3         1  2023-03-01 00:49:37   2023-03-01 01:01:05              1.0   \n",
       "4         2  2023-03-01 00:08:04   2023-03-01 00:11:06              1.0   \n",
       "\n",
       "   trip_distance  RatecodeID store_and_fwd_flag  PULocationID  DOLocationID  \\\n",
       "0           0.00         1.0                  N           238            42   \n",
       "1          12.40         1.0                  N           138           231   \n",
       "2           3.30         1.0                  N           140           186   \n",
       "3           2.90         1.0                  N           140            43   \n",
       "4           1.23         1.0                  N            79           137   \n",
       "\n",
       "   payment_type  fare_amount  extra  mta_tax  tip_amount  tolls_amount  \\\n",
       "0             2          8.6    1.0      0.5        0.00           0.0   \n",
       "1             1         52.7    6.0      0.5       12.54           0.0   \n",
       "2             1         18.4    3.5      0.5        4.65           0.0   \n",
       "3             1         15.6    3.5      0.5        4.10           0.0   \n",
       "4             1          7.2    1.0      0.5        2.44           0.0   \n",
       "\n",
       "   improvement_surcharge  total_amount  congestion_surcharge  Airport_fee  \n",
       "0                    1.0         11.10                   0.0         0.00  \n",
       "1                    1.0         76.49                   2.5         1.25  \n",
       "2                    1.0         28.05                   2.5         0.00  \n",
       "3                    1.0         24.70                   2.5         0.00  \n",
       "4                    1.0         14.64                   2.5         0.00  "
      ]
     },
     "execution_count": 161,
     "metadata": {},
     "output_type": "execute_result"
    }
   ],
   "source": [
    "dataframe.head()"
   ]
  },
  {
   "cell_type": "code",
   "execution_count": 162,
   "metadata": {
    "colab": {
     "base_uri": "https://localhost:8080/"
    },
    "id": "cT9hJQ1WW92H",
    "outputId": "6e47340d-ed44-4b5a-af17-4194151273ed"
   },
   "outputs": [
    {
     "name": "stdout",
     "output_type": "stream",
     "text": [
      "VendorID                     0\n",
      "tpep_pickup_datetime         0\n",
      "tpep_dropoff_datetime        0\n",
      "passenger_count          87619\n",
      "trip_distance                0\n",
      "RatecodeID               87619\n",
      "store_and_fwd_flag       87619\n",
      "PULocationID                 0\n",
      "DOLocationID                 0\n",
      "payment_type                 0\n",
      "fare_amount                  0\n",
      "extra                        0\n",
      "mta_tax                      0\n",
      "tip_amount                   0\n",
      "tolls_amount                 0\n",
      "improvement_surcharge        0\n",
      "total_amount                 0\n",
      "congestion_surcharge     87619\n",
      "Airport_fee              87619\n",
      "dtype: int64\n"
     ]
    }
   ],
   "source": [
    "#On compte le nombre de valeurs manquantes par variables :\n",
    "missing_values = dataframe.isnull().sum()\n",
    "print(missing_values)"
   ]
  },
  {
   "cell_type": "code",
   "execution_count": 163,
   "metadata": {
    "id": "Hq6PlafjZix8"
   },
   "outputs": [],
   "source": [
    "#On retire les variables non utiles à la prédiction\n",
    "dataframe=dataframe.drop(['VendorID', 'store_and_fwd_flag'], axis=1)"
   ]
  },
  {
   "cell_type": "code",
   "execution_count": 164,
   "metadata": {
    "id": "QlVa7Ga0cjX7"
   },
   "outputs": [],
   "source": [
    "#Les autres colonnes ne seront pas utilisées dans notre projet car nous avons accès au montant total, nous les supprimons donc.\n",
    "dataframe.drop('fare_amount', axis=1, inplace=True) # Axis = 1 (colonne), Axis = 0 (lignes)"
   ]
  },
  {
   "cell_type": "code",
   "execution_count": 165,
   "metadata": {
    "id": "BR92d1dddgNE"
   },
   "outputs": [],
   "source": [
    "dataframe.drop('extra', axis=1, inplace=True)"
   ]
  },
  {
   "cell_type": "code",
   "execution_count": 166,
   "metadata": {
    "id": "E_1D2Jg3dkTt"
   },
   "outputs": [],
   "source": [
    "dataframe.drop('mta_tax', axis=1, inplace=True)"
   ]
  },
  {
   "cell_type": "code",
   "execution_count": 167,
   "metadata": {
    "id": "ZsmYk7VLdp6c"
   },
   "outputs": [],
   "source": [
    "dataframe.drop('tip_amount', axis=1, inplace=True)"
   ]
  },
  {
   "cell_type": "code",
   "execution_count": 168,
   "metadata": {
    "id": "H-bEqT9_durp"
   },
   "outputs": [],
   "source": [
    "dataframe.drop('tolls_amount', axis=1, inplace=True)"
   ]
  },
  {
   "cell_type": "code",
   "execution_count": 169,
   "metadata": {
    "id": "b96wjKLWd4mK"
   },
   "outputs": [],
   "source": [
    "dataframe.drop('Airport_fee', axis=1, inplace=True)"
   ]
  },
  {
   "cell_type": "code",
   "execution_count": 170,
   "metadata": {
    "id": "WYlqUCSqfDeY"
   },
   "outputs": [],
   "source": [
    "dataframe.drop('improvement_surcharge', axis=1, inplace=True)"
   ]
  },
  {
   "cell_type": "code",
   "execution_count": 171,
   "metadata": {
    "id": "h-a9BzcxfJrf"
   },
   "outputs": [],
   "source": [
    "dataframe.drop('congestion_surcharge', axis=1, inplace=True)"
   ]
  },
  {
   "cell_type": "code",
   "execution_count": 172,
   "metadata": {
    "id": "8Ah0Cqou2KKp"
   },
   "outputs": [],
   "source": [
    "dataframe.drop('RatecodeID', axis=1, inplace=True)"
   ]
  },
  {
   "cell_type": "code",
   "execution_count": 173,
   "metadata": {},
   "outputs": [
    {
     "data": {
      "text/plain": [
       "1.0    2526148\n",
       "2.0     479142\n",
       "3.0     117805\n",
       "4.0      59013\n",
       "0.0      58365\n",
       "5.0      46482\n",
       "6.0      29171\n",
       "8.0         11\n",
       "7.0          7\n",
       "9.0          3\n",
       "Name: passenger_count, dtype: int64"
      ]
     },
     "execution_count": 173,
     "metadata": {},
     "output_type": "execute_result"
    }
   ],
   "source": [
    "dataframe['passenger_count'].value_counts()"
   ]
  },
  {
   "cell_type": "code",
   "execution_count": 174,
   "metadata": {
    "id": "wjULfSOZyfPD"
   },
   "outputs": [],
   "source": [
    "# On remplace les valeurs manquantes des variables utiles à la prédiction par la moyenne de celles-ci\n",
    "moy=int(dataframe['passenger_count'].mean())\n",
    "dataframe['passenger_count'] = dataframe['passenger_count'].replace(np.nan, moy) #remplacement par la moyenne du nbre de passager"
   ]
  },
  {
   "cell_type": "code",
   "execution_count": 175,
   "metadata": {},
   "outputs": [
    {
     "data": {
      "text/plain": [
       "1"
      ]
     },
     "execution_count": 175,
     "metadata": {},
     "output_type": "execute_result"
    }
   ],
   "source": [
    "moy"
   ]
  },
  {
   "cell_type": "code",
   "execution_count": 176,
   "metadata": {
    "colab": {
     "base_uri": "https://localhost:8080/"
    },
    "id": "k_HHwjiTyrK7",
    "outputId": "6ed12b9f-3a63-4fbb-d91c-059a1ce33fc9"
   },
   "outputs": [
    {
     "data": {
      "text/plain": [
       "tpep_pickup_datetime     0\n",
       "tpep_dropoff_datetime    0\n",
       "passenger_count          0\n",
       "trip_distance            0\n",
       "PULocationID             0\n",
       "DOLocationID             0\n",
       "payment_type             0\n",
       "total_amount             0\n",
       "dtype: int64"
      ]
     },
     "execution_count": 176,
     "metadata": {},
     "output_type": "execute_result"
    }
   ],
   "source": [
    "dataframe.isnull().sum()"
   ]
  },
  {
   "cell_type": "code",
   "execution_count": 177,
   "metadata": {},
   "outputs": [
    {
     "data": {
      "text/plain": [
       "1.0    2613767\n",
       "2.0     479142\n",
       "3.0     117805\n",
       "4.0      59013\n",
       "0.0      58365\n",
       "5.0      46482\n",
       "6.0      29171\n",
       "8.0         11\n",
       "7.0          7\n",
       "9.0          3\n",
       "Name: passenger_count, dtype: int64"
      ]
     },
     "execution_count": 177,
     "metadata": {},
     "output_type": "execute_result"
    }
   ],
   "source": [
    "dataframe['passenger_count'].value_counts()"
   ]
  },
  {
   "cell_type": "code",
   "execution_count": 178,
   "metadata": {},
   "outputs": [],
   "source": [
    "# Passage de la variable float (passenger_count) en entier\n",
    "dataframe['passenger_count'] = dataframe['passenger_count'].astype(int)"
   ]
  },
  {
   "cell_type": "code",
   "execution_count": 179,
   "metadata": {},
   "outputs": [
    {
     "data": {
      "text/plain": [
       "1    2613767\n",
       "2     479142\n",
       "3     117805\n",
       "4      59013\n",
       "0      58365\n",
       "5      46482\n",
       "6      29171\n",
       "8         11\n",
       "7          7\n",
       "9          3\n",
       "Name: passenger_count, dtype: int64"
      ]
     },
     "execution_count": 179,
     "metadata": {},
     "output_type": "execute_result"
    }
   ],
   "source": [
    "dataframe['passenger_count'].value_counts()"
   ]
  },
  {
   "cell_type": "code",
   "execution_count": 180,
   "metadata": {
    "scrolled": true
   },
   "outputs": [
    {
     "name": "stdout",
     "output_type": "stream",
     "text": [
      "Après un premier traitement :\n",
      "Nombre de \"lignes\" = 3403766\n",
      "Nombre d'attributs = 8\n"
     ]
    }
   ],
   "source": [
    "print(\"Après un premier traitement :\")\n",
    "# Chiffrage du jeu de données\n",
    "print('Nombre de \"lignes\" = %d' % (dataframe.shape[0]))\n",
    "print('Nombre d\\'attributs = %d' % (dataframe.shape[1]))"
   ]
  },
  {
   "cell_type": "markdown",
   "metadata": {
    "id": "0ZCtrquU2QPh"
   },
   "source": [
    "## On crée de nouvelles variables (dates) pour les dates afin de calculer la durée du trajet et rajouter ces variables aux features"
   ]
  },
  {
   "cell_type": "code",
   "execution_count": 181,
   "metadata": {
    "colab": {
     "base_uri": "https://localhost:8080/",
     "height": 407
    },
    "id": "Ryz3f8-e0bra",
    "outputId": "82202a30-866a-4596-b00e-9164ffc06380"
   },
   "outputs": [],
   "source": [
    "# On va splitter les données temporelles afin d'anticiper les problèmes de dates qu'on peut habituellement rencontrer\n",
    "# On va donc créer 3 formats de dates différents\n",
    "dataframe['mois'] = dataframe.tpep_pickup_datetime.dt.month\n",
    "dataframe['jour'] = dataframe.tpep_pickup_datetime.dt.day\n",
    "dataframe['annee'] = dataframe.tpep_pickup_datetime.dt.year\n",
    "dataframe['heure'] = dataframe.tpep_pickup_datetime.dt.hour\n",
    "dataframe['minute'] = dataframe.tpep_pickup_datetime.dt.minute\n",
    "dataframe['joursemaine'] = dataframe.tpep_pickup_datetime.dt.weekday\n",
    "\n",
    "dataframe['durée'] = dataframe['tpep_dropoff_datetime'] - dataframe['tpep_pickup_datetime']\n",
    "\n",
    "#def format_duree_trajet(row):\n",
    "#    heures = row['durée'].seconds // 3600\n",
    "#    minutes = (row['durée'].seconds % 3600) // 60\n",
    "#    secondes = row['durée'].seconds % 60\n",
    "#    return f\"{heures:02d}:{minutes:02d}:{secondes:02d}\"\n",
    "\n",
    "#dataframe['durée2'] = dataframe.apply(format_duree_trajet, axis=1)\n",
    "\n"
   ]
  },
  {
   "cell_type": "code",
   "execution_count": 182,
   "metadata": {},
   "outputs": [
    {
     "data": {
      "text/html": [
       "<div>\n",
       "<style scoped>\n",
       "    .dataframe tbody tr th:only-of-type {\n",
       "        vertical-align: middle;\n",
       "    }\n",
       "\n",
       "    .dataframe tbody tr th {\n",
       "        vertical-align: top;\n",
       "    }\n",
       "\n",
       "    .dataframe thead th {\n",
       "        text-align: right;\n",
       "    }\n",
       "</style>\n",
       "<table border=\"1\" class=\"dataframe\">\n",
       "  <thead>\n",
       "    <tr style=\"text-align: right;\">\n",
       "      <th></th>\n",
       "      <th>passenger_count</th>\n",
       "      <th>trip_distance</th>\n",
       "      <th>PULocationID</th>\n",
       "      <th>DOLocationID</th>\n",
       "      <th>payment_type</th>\n",
       "      <th>total_amount</th>\n",
       "      <th>mois</th>\n",
       "      <th>jour</th>\n",
       "      <th>annee</th>\n",
       "      <th>heure</th>\n",
       "      <th>minute</th>\n",
       "      <th>joursemaine</th>\n",
       "      <th>durée</th>\n",
       "      <th>duree3</th>\n",
       "    </tr>\n",
       "  </thead>\n",
       "  <tbody>\n",
       "    <tr>\n",
       "      <th>3403761</th>\n",
       "      <td>1</td>\n",
       "      <td>3.16</td>\n",
       "      <td>163</td>\n",
       "      <td>75</td>\n",
       "      <td>0</td>\n",
       "      <td>20.36</td>\n",
       "      <td>3</td>\n",
       "      <td>31</td>\n",
       "      <td>2023</td>\n",
       "      <td>23</td>\n",
       "      <td>24</td>\n",
       "      <td>4</td>\n",
       "      <td>0 days 00:16:29</td>\n",
       "      <td>16.483333</td>\n",
       "    </tr>\n",
       "    <tr>\n",
       "      <th>3403762</th>\n",
       "      <td>1</td>\n",
       "      <td>6.89</td>\n",
       "      <td>125</td>\n",
       "      <td>198</td>\n",
       "      <td>0</td>\n",
       "      <td>53.90</td>\n",
       "      <td>3</td>\n",
       "      <td>31</td>\n",
       "      <td>2023</td>\n",
       "      <td>23</td>\n",
       "      <td>24</td>\n",
       "      <td>4</td>\n",
       "      <td>0 days 00:39:22</td>\n",
       "      <td>39.366667</td>\n",
       "    </tr>\n",
       "    <tr>\n",
       "      <th>3403763</th>\n",
       "      <td>1</td>\n",
       "      <td>4.01</td>\n",
       "      <td>50</td>\n",
       "      <td>224</td>\n",
       "      <td>0</td>\n",
       "      <td>28.02</td>\n",
       "      <td>3</td>\n",
       "      <td>31</td>\n",
       "      <td>2023</td>\n",
       "      <td>23</td>\n",
       "      <td>26</td>\n",
       "      <td>4</td>\n",
       "      <td>0 days 00:23:08</td>\n",
       "      <td>23.133333</td>\n",
       "    </tr>\n",
       "    <tr>\n",
       "      <th>3403764</th>\n",
       "      <td>1</td>\n",
       "      <td>1.31</td>\n",
       "      <td>113</td>\n",
       "      <td>158</td>\n",
       "      <td>0</td>\n",
       "      <td>16.01</td>\n",
       "      <td>3</td>\n",
       "      <td>31</td>\n",
       "      <td>2023</td>\n",
       "      <td>23</td>\n",
       "      <td>7</td>\n",
       "      <td>4</td>\n",
       "      <td>0 days 00:08:05</td>\n",
       "      <td>8.083333</td>\n",
       "    </tr>\n",
       "    <tr>\n",
       "      <th>3403765</th>\n",
       "      <td>1</td>\n",
       "      <td>0.88</td>\n",
       "      <td>41</td>\n",
       "      <td>166</td>\n",
       "      <td>0</td>\n",
       "      <td>17.26</td>\n",
       "      <td>3</td>\n",
       "      <td>31</td>\n",
       "      <td>2023</td>\n",
       "      <td>23</td>\n",
       "      <td>26</td>\n",
       "      <td>4</td>\n",
       "      <td>0 days 00:05:35</td>\n",
       "      <td>5.583333</td>\n",
       "    </tr>\n",
       "  </tbody>\n",
       "</table>\n",
       "</div>"
      ],
      "text/plain": [
       "         passenger_count  trip_distance  PULocationID  DOLocationID  \\\n",
       "3403761                1           3.16           163            75   \n",
       "3403762                1           6.89           125           198   \n",
       "3403763                1           4.01            50           224   \n",
       "3403764                1           1.31           113           158   \n",
       "3403765                1           0.88            41           166   \n",
       "\n",
       "         payment_type  total_amount  mois  jour  annee  heure  minute  \\\n",
       "3403761             0         20.36     3    31   2023     23      24   \n",
       "3403762             0         53.90     3    31   2023     23      24   \n",
       "3403763             0         28.02     3    31   2023     23      26   \n",
       "3403764             0         16.01     3    31   2023     23       7   \n",
       "3403765             0         17.26     3    31   2023     23      26   \n",
       "\n",
       "         joursemaine           durée     duree3  \n",
       "3403761            4 0 days 00:16:29  16.483333  \n",
       "3403762            4 0 days 00:39:22  39.366667  \n",
       "3403763            4 0 days 00:23:08  23.133333  \n",
       "3403764            4 0 days 00:08:05   8.083333  \n",
       "3403765            4 0 days 00:05:35   5.583333  "
      ]
     },
     "execution_count": 182,
     "metadata": {},
     "output_type": "execute_result"
    }
   ],
   "source": [
    "dataframe['duree3'] = dataframe.durée.dt.total_seconds()/60\n",
    "\n",
    "#On peut supprimer les variables au format embétant et garder celles qu'on a créées\n",
    "dataframe=dataframe.drop(['tpep_pickup_datetime','tpep_dropoff_datetime'], axis=1)\n",
    "dataframe.tail(5)"
   ]
  },
  {
   "cell_type": "code",
   "execution_count": 183,
   "metadata": {
    "colab": {
     "base_uri": "https://localhost:8080/",
     "height": 206
    },
    "id": "f7ISx-ttz7ou",
    "outputId": "3fa639e0-4cc3-4066-8ebd-f781662a365b"
   },
   "outputs": [
    {
     "data": {
      "text/html": [
       "<div>\n",
       "<style scoped>\n",
       "    .dataframe tbody tr th:only-of-type {\n",
       "        vertical-align: middle;\n",
       "    }\n",
       "\n",
       "    .dataframe tbody tr th {\n",
       "        vertical-align: top;\n",
       "    }\n",
       "\n",
       "    .dataframe thead th {\n",
       "        text-align: right;\n",
       "    }\n",
       "</style>\n",
       "<table border=\"1\" class=\"dataframe\">\n",
       "  <thead>\n",
       "    <tr style=\"text-align: right;\">\n",
       "      <th></th>\n",
       "      <th>passenger_count</th>\n",
       "      <th>trip_distance</th>\n",
       "      <th>PULocationID</th>\n",
       "      <th>DOLocationID</th>\n",
       "      <th>payment_type</th>\n",
       "      <th>total_amount</th>\n",
       "      <th>mois</th>\n",
       "      <th>jour</th>\n",
       "      <th>annee</th>\n",
       "      <th>heure</th>\n",
       "      <th>minute</th>\n",
       "      <th>joursemaine</th>\n",
       "      <th>durée</th>\n",
       "      <th>duree3</th>\n",
       "    </tr>\n",
       "  </thead>\n",
       "  <tbody>\n",
       "    <tr>\n",
       "      <th>0</th>\n",
       "      <td>1</td>\n",
       "      <td>0.00</td>\n",
       "      <td>238</td>\n",
       "      <td>42</td>\n",
       "      <td>2</td>\n",
       "      <td>11.10</td>\n",
       "      <td>3</td>\n",
       "      <td>1</td>\n",
       "      <td>2023</td>\n",
       "      <td>0</td>\n",
       "      <td>6</td>\n",
       "      <td>2</td>\n",
       "      <td>0 days 00:10:00</td>\n",
       "      <td>10.000000</td>\n",
       "    </tr>\n",
       "    <tr>\n",
       "      <th>1</th>\n",
       "      <td>2</td>\n",
       "      <td>12.40</td>\n",
       "      <td>138</td>\n",
       "      <td>231</td>\n",
       "      <td>1</td>\n",
       "      <td>76.49</td>\n",
       "      <td>3</td>\n",
       "      <td>1</td>\n",
       "      <td>2023</td>\n",
       "      <td>0</td>\n",
       "      <td>8</td>\n",
       "      <td>2</td>\n",
       "      <td>0 days 00:31:05</td>\n",
       "      <td>31.083333</td>\n",
       "    </tr>\n",
       "    <tr>\n",
       "      <th>2</th>\n",
       "      <td>0</td>\n",
       "      <td>3.30</td>\n",
       "      <td>140</td>\n",
       "      <td>186</td>\n",
       "      <td>1</td>\n",
       "      <td>28.05</td>\n",
       "      <td>3</td>\n",
       "      <td>1</td>\n",
       "      <td>2023</td>\n",
       "      <td>0</td>\n",
       "      <td>15</td>\n",
       "      <td>2</td>\n",
       "      <td>0 days 00:14:22</td>\n",
       "      <td>14.366667</td>\n",
       "    </tr>\n",
       "    <tr>\n",
       "      <th>3</th>\n",
       "      <td>1</td>\n",
       "      <td>2.90</td>\n",
       "      <td>140</td>\n",
       "      <td>43</td>\n",
       "      <td>1</td>\n",
       "      <td>24.70</td>\n",
       "      <td>3</td>\n",
       "      <td>1</td>\n",
       "      <td>2023</td>\n",
       "      <td>0</td>\n",
       "      <td>49</td>\n",
       "      <td>2</td>\n",
       "      <td>0 days 00:11:28</td>\n",
       "      <td>11.466667</td>\n",
       "    </tr>\n",
       "    <tr>\n",
       "      <th>4</th>\n",
       "      <td>1</td>\n",
       "      <td>1.23</td>\n",
       "      <td>79</td>\n",
       "      <td>137</td>\n",
       "      <td>1</td>\n",
       "      <td>14.64</td>\n",
       "      <td>3</td>\n",
       "      <td>1</td>\n",
       "      <td>2023</td>\n",
       "      <td>0</td>\n",
       "      <td>8</td>\n",
       "      <td>2</td>\n",
       "      <td>0 days 00:03:02</td>\n",
       "      <td>3.033333</td>\n",
       "    </tr>\n",
       "  </tbody>\n",
       "</table>\n",
       "</div>"
      ],
      "text/plain": [
       "   passenger_count  trip_distance  PULocationID  DOLocationID  payment_type  \\\n",
       "0                1           0.00           238            42             2   \n",
       "1                2          12.40           138           231             1   \n",
       "2                0           3.30           140           186             1   \n",
       "3                1           2.90           140            43             1   \n",
       "4                1           1.23            79           137             1   \n",
       "\n",
       "   total_amount  mois  jour  annee  heure  minute  joursemaine  \\\n",
       "0         11.10     3     1   2023      0       6            2   \n",
       "1         76.49     3     1   2023      0       8            2   \n",
       "2         28.05     3     1   2023      0      15            2   \n",
       "3         24.70     3     1   2023      0      49            2   \n",
       "4         14.64     3     1   2023      0       8            2   \n",
       "\n",
       "            durée     duree3  \n",
       "0 0 days 00:10:00  10.000000  \n",
       "1 0 days 00:31:05  31.083333  \n",
       "2 0 days 00:14:22  14.366667  \n",
       "3 0 days 00:11:28  11.466667  \n",
       "4 0 days 00:03:02   3.033333  "
      ]
     },
     "execution_count": 183,
     "metadata": {},
     "output_type": "execute_result"
    }
   ],
   "source": [
    "dataframe.head()"
   ]
  },
  {
   "cell_type": "code",
   "execution_count": 184,
   "metadata": {
    "colab": {
     "base_uri": "https://localhost:8080/"
    },
    "id": "urHX6Q910Xw8",
    "outputId": "2e38fbcf-9146-4409-a575-4eead892d730"
   },
   "outputs": [],
   "source": [
    "before = dataframe.shape"
   ]
  },
  {
   "cell_type": "markdown",
   "metadata": {},
   "source": [
    "## Nettoyage des données aberrantes"
   ]
  },
  {
   "cell_type": "markdown",
   "metadata": {},
   "source": [
    "## Nombre de passagers"
   ]
  },
  {
   "cell_type": "markdown",
   "metadata": {},
   "source": [
    "### On garde les lignes où il y a au moins un passager "
   ]
  },
  {
   "cell_type": "code",
   "execution_count": 185,
   "metadata": {},
   "outputs": [
    {
     "data": {
      "text/plain": [
       "False    3345401\n",
       "True       58365\n",
       "Name: passenger_count, dtype: int64"
      ]
     },
     "execution_count": 185,
     "metadata": {},
     "output_type": "execute_result"
    }
   ],
   "source": [
    "(dataframe['passenger_count']<1).value_counts()"
   ]
  },
  {
   "cell_type": "code",
   "execution_count": 186,
   "metadata": {},
   "outputs": [],
   "source": [
    "dataframe=dataframe[dataframe['passenger_count']>0]"
   ]
  },
  {
   "cell_type": "markdown",
   "metadata": {},
   "source": [
    "## Prix"
   ]
  },
  {
   "cell_type": "code",
   "execution_count": 187,
   "metadata": {},
   "outputs": [
    {
     "data": {
      "text/plain": [
       "False    3344920\n",
       "True         481\n",
       "Name: total_amount, dtype: int64"
      ]
     },
     "execution_count": 187,
     "metadata": {},
     "output_type": "execute_result"
    }
   ],
   "source": [
    "(dataframe['total_amount']>300).value_counts()"
   ]
  },
  {
   "cell_type": "markdown",
   "metadata": {},
   "source": [
    "### On garde les lignes où les prix sont compris entre 1 et 300 $"
   ]
  },
  {
   "cell_type": "code",
   "execution_count": 188,
   "metadata": {
    "id": "LmECeKDG0Zzl"
   },
   "outputs": [],
   "source": [
    "dataframe=dataframe[dataframe['total_amount']<300]"
   ]
  },
  {
   "cell_type": "code",
   "execution_count": 189,
   "metadata": {
    "id": "FxnhkC180hUS"
   },
   "outputs": [],
   "source": [
    "dataframe=dataframe[dataframe['total_amount']>1]"
   ]
  },
  {
   "cell_type": "markdown",
   "metadata": {
    "id": "F_mzYais3Oi4"
   },
   "source": [
    "## Distance"
   ]
  },
  {
   "cell_type": "code",
   "execution_count": 190,
   "metadata": {
    "colab": {
     "base_uri": "https://localhost:8080/"
    },
    "id": "Djbvdp843Ren",
    "outputId": "9f3b55d4-7191-4924-ded1-e6ceb940dd9f"
   },
   "outputs": [
    {
     "data": {
      "text/plain": [
       "3.922284080911084"
      ]
     },
     "execution_count": 190,
     "metadata": {},
     "output_type": "execute_result"
    }
   ],
   "source": [
    "dataframe['trip_distance'].mean()"
   ]
  },
  {
   "cell_type": "code",
   "execution_count": 191,
   "metadata": {
    "colab": {
     "base_uri": "https://localhost:8080/"
    },
    "id": "tjuQxuba3UWf",
    "outputId": "19041d59-ac6e-4934-80b8-88f97b952bda"
   },
   "outputs": [
    {
     "data": {
      "text/plain": [
       "216986.96"
      ]
     },
     "execution_count": 191,
     "metadata": {},
     "output_type": "execute_result"
    }
   ],
   "source": [
    "dataframe['trip_distance'].max()"
   ]
  },
  {
   "cell_type": "code",
   "execution_count": 192,
   "metadata": {
    "colab": {
     "base_uri": "https://localhost:8080/"
    },
    "id": "c8frDHCD3coJ",
    "outputId": "a8f17c4b-b1f1-492b-b223-5e0128511141"
   },
   "outputs": [
    {
     "data": {
      "text/plain": [
       "False    3314341\n",
       "True          95\n",
       "Name: trip_distance, dtype: int64"
      ]
     },
     "execution_count": 192,
     "metadata": {},
     "output_type": "execute_result"
    }
   ],
   "source": [
    "(dataframe['trip_distance']>100).value_counts()"
   ]
  },
  {
   "cell_type": "markdown",
   "metadata": {},
   "source": [
    "### On garde les lignes où les distances de trajet sont inférieurs à 100 miles"
   ]
  },
  {
   "cell_type": "code",
   "execution_count": 193,
   "metadata": {
    "id": "R0jiUB_43fzd"
   },
   "outputs": [],
   "source": [
    "dataframe.drop(dataframe[(dataframe['trip_distance']>100)].index, inplace=True)"
   ]
  },
  {
   "cell_type": "markdown",
   "metadata": {},
   "source": [
    "## Durée du trajet "
   ]
  },
  {
   "cell_type": "code",
   "execution_count": 194,
   "metadata": {},
   "outputs": [
    {
     "data": {
      "text/plain": [
       "Timedelta('3 days 21:57:43')"
      ]
     },
     "execution_count": 194,
     "metadata": {},
     "output_type": "execute_result"
    }
   ],
   "source": [
    "dataframe['durée'].max()"
   ]
  },
  {
   "cell_type": "code",
   "execution_count": 195,
   "metadata": {},
   "outputs": [
    {
     "data": {
      "text/plain": [
       "False    3314320\n",
       "True          21\n",
       "Name: durée, dtype: int64"
      ]
     },
     "execution_count": 195,
     "metadata": {},
     "output_type": "execute_result"
    }
   ],
   "source": [
    "from datetime import timedelta\n",
    "dataframe['durée'].max()\n",
    "un_jour=timedelta(days=1)\n",
    "douze_h=timedelta(hours=12)\n",
    "(dataframe['durée']>un_jour).value_counts()"
   ]
  },
  {
   "cell_type": "code",
   "execution_count": 196,
   "metadata": {},
   "outputs": [
    {
     "data": {
      "text/html": [
       "<div>\n",
       "<style scoped>\n",
       "    .dataframe tbody tr th:only-of-type {\n",
       "        vertical-align: middle;\n",
       "    }\n",
       "\n",
       "    .dataframe tbody tr th {\n",
       "        vertical-align: top;\n",
       "    }\n",
       "\n",
       "    .dataframe thead th {\n",
       "        text-align: right;\n",
       "    }\n",
       "</style>\n",
       "<table border=\"1\" class=\"dataframe\">\n",
       "  <thead>\n",
       "    <tr style=\"text-align: right;\">\n",
       "      <th></th>\n",
       "      <th>passenger_count</th>\n",
       "      <th>trip_distance</th>\n",
       "      <th>PULocationID</th>\n",
       "      <th>DOLocationID</th>\n",
       "      <th>payment_type</th>\n",
       "      <th>total_amount</th>\n",
       "      <th>mois</th>\n",
       "      <th>jour</th>\n",
       "      <th>annee</th>\n",
       "      <th>heure</th>\n",
       "      <th>minute</th>\n",
       "      <th>joursemaine</th>\n",
       "      <th>durée</th>\n",
       "      <th>duree3</th>\n",
       "    </tr>\n",
       "  </thead>\n",
       "  <tbody>\n",
       "    <tr>\n",
       "      <th>259246</th>\n",
       "      <td>1</td>\n",
       "      <td>40.02</td>\n",
       "      <td>138</td>\n",
       "      <td>193</td>\n",
       "      <td>2</td>\n",
       "      <td>277.45</td>\n",
       "      <td>3</td>\n",
       "      <td>3</td>\n",
       "      <td>2023</td>\n",
       "      <td>12</td>\n",
       "      <td>53</td>\n",
       "      <td>4</td>\n",
       "      <td>2 days 22:48:02</td>\n",
       "      <td>4248.033333</td>\n",
       "    </tr>\n",
       "    <tr>\n",
       "      <th>305550</th>\n",
       "      <td>2</td>\n",
       "      <td>0.00</td>\n",
       "      <td>226</td>\n",
       "      <td>226</td>\n",
       "      <td>2</td>\n",
       "      <td>21.00</td>\n",
       "      <td>3</td>\n",
       "      <td>3</td>\n",
       "      <td>2023</td>\n",
       "      <td>18</td>\n",
       "      <td>1</td>\n",
       "      <td>4</td>\n",
       "      <td>2 days 17:33:33</td>\n",
       "      <td>3933.550000</td>\n",
       "    </tr>\n",
       "    <tr>\n",
       "      <th>305551</th>\n",
       "      <td>1</td>\n",
       "      <td>16.20</td>\n",
       "      <td>132</td>\n",
       "      <td>125</td>\n",
       "      <td>1</td>\n",
       "      <td>94.80</td>\n",
       "      <td>3</td>\n",
       "      <td>3</td>\n",
       "      <td>2023</td>\n",
       "      <td>18</td>\n",
       "      <td>1</td>\n",
       "      <td>4</td>\n",
       "      <td>2 days 18:32:43</td>\n",
       "      <td>3992.716667</td>\n",
       "    </tr>\n",
       "    <tr>\n",
       "      <th>687479</th>\n",
       "      <td>1</td>\n",
       "      <td>4.28</td>\n",
       "      <td>132</td>\n",
       "      <td>132</td>\n",
       "      <td>2</td>\n",
       "      <td>26.05</td>\n",
       "      <td>3</td>\n",
       "      <td>7</td>\n",
       "      <td>2023</td>\n",
       "      <td>15</td>\n",
       "      <td>35</td>\n",
       "      <td>1</td>\n",
       "      <td>1 days 14:51:18</td>\n",
       "      <td>2331.300000</td>\n",
       "    </tr>\n",
       "    <tr>\n",
       "      <th>687480</th>\n",
       "      <td>1</td>\n",
       "      <td>8.11</td>\n",
       "      <td>262</td>\n",
       "      <td>65</td>\n",
       "      <td>1</td>\n",
       "      <td>48.00</td>\n",
       "      <td>3</td>\n",
       "      <td>7</td>\n",
       "      <td>2023</td>\n",
       "      <td>15</td>\n",
       "      <td>35</td>\n",
       "      <td>1</td>\n",
       "      <td>1 days 15:04:52</td>\n",
       "      <td>2344.866667</td>\n",
       "    </tr>\n",
       "    <tr>\n",
       "      <th>909315</th>\n",
       "      <td>1</td>\n",
       "      <td>0.00</td>\n",
       "      <td>76</td>\n",
       "      <td>76</td>\n",
       "      <td>1</td>\n",
       "      <td>15.60</td>\n",
       "      <td>3</td>\n",
       "      <td>9</td>\n",
       "      <td>2023</td>\n",
       "      <td>13</td>\n",
       "      <td>31</td>\n",
       "      <td>3</td>\n",
       "      <td>3 days 21:57:43</td>\n",
       "      <td>5637.716667</td>\n",
       "    </tr>\n",
       "    <tr>\n",
       "      <th>1388676</th>\n",
       "      <td>1</td>\n",
       "      <td>0.00</td>\n",
       "      <td>232</td>\n",
       "      <td>226</td>\n",
       "      <td>2</td>\n",
       "      <td>8.00</td>\n",
       "      <td>3</td>\n",
       "      <td>13</td>\n",
       "      <td>2023</td>\n",
       "      <td>21</td>\n",
       "      <td>23</td>\n",
       "      <td>0</td>\n",
       "      <td>3 days 13:25:13</td>\n",
       "      <td>5125.216667</td>\n",
       "    </tr>\n",
       "    <tr>\n",
       "      <th>1464737</th>\n",
       "      <td>1</td>\n",
       "      <td>2.09</td>\n",
       "      <td>48</td>\n",
       "      <td>42</td>\n",
       "      <td>2</td>\n",
       "      <td>26.30</td>\n",
       "      <td>3</td>\n",
       "      <td>14</td>\n",
       "      <td>2023</td>\n",
       "      <td>17</td>\n",
       "      <td>10</td>\n",
       "      <td>1</td>\n",
       "      <td>1 days 15:48:59</td>\n",
       "      <td>2388.983333</td>\n",
       "    </tr>\n",
       "    <tr>\n",
       "      <th>1655642</th>\n",
       "      <td>1</td>\n",
       "      <td>0.01</td>\n",
       "      <td>7</td>\n",
       "      <td>193</td>\n",
       "      <td>2</td>\n",
       "      <td>4.50</td>\n",
       "      <td>3</td>\n",
       "      <td>16</td>\n",
       "      <td>2023</td>\n",
       "      <td>12</td>\n",
       "      <td>9</td>\n",
       "      <td>3</td>\n",
       "      <td>1 days 03:21:44</td>\n",
       "      <td>1641.733333</td>\n",
       "    </tr>\n",
       "    <tr>\n",
       "      <th>1717647</th>\n",
       "      <td>1</td>\n",
       "      <td>0.68</td>\n",
       "      <td>161</td>\n",
       "      <td>161</td>\n",
       "      <td>2</td>\n",
       "      <td>13.60</td>\n",
       "      <td>3</td>\n",
       "      <td>16</td>\n",
       "      <td>2023</td>\n",
       "      <td>20</td>\n",
       "      <td>20</td>\n",
       "      <td>3</td>\n",
       "      <td>1 days 12:23:52</td>\n",
       "      <td>2183.866667</td>\n",
       "    </tr>\n",
       "    <tr>\n",
       "      <th>1717648</th>\n",
       "      <td>1</td>\n",
       "      <td>0.47</td>\n",
       "      <td>43</td>\n",
       "      <td>43</td>\n",
       "      <td>1</td>\n",
       "      <td>10.92</td>\n",
       "      <td>3</td>\n",
       "      <td>16</td>\n",
       "      <td>2023</td>\n",
       "      <td>20</td>\n",
       "      <td>20</td>\n",
       "      <td>3</td>\n",
       "      <td>1 days 12:26:49</td>\n",
       "      <td>2186.816667</td>\n",
       "    </tr>\n",
       "    <tr>\n",
       "      <th>2038217</th>\n",
       "      <td>1</td>\n",
       "      <td>3.13</td>\n",
       "      <td>161</td>\n",
       "      <td>79</td>\n",
       "      <td>2</td>\n",
       "      <td>22.40</td>\n",
       "      <td>3</td>\n",
       "      <td>19</td>\n",
       "      <td>2023</td>\n",
       "      <td>17</td>\n",
       "      <td>59</td>\n",
       "      <td>6</td>\n",
       "      <td>1 days 18:37:50</td>\n",
       "      <td>2557.833333</td>\n",
       "    </tr>\n",
       "    <tr>\n",
       "      <th>2132919</th>\n",
       "      <td>1</td>\n",
       "      <td>2.64</td>\n",
       "      <td>151</td>\n",
       "      <td>193</td>\n",
       "      <td>2</td>\n",
       "      <td>16.80</td>\n",
       "      <td>3</td>\n",
       "      <td>20</td>\n",
       "      <td>2023</td>\n",
       "      <td>18</td>\n",
       "      <td>7</td>\n",
       "      <td>0</td>\n",
       "      <td>1 days 02:49:06</td>\n",
       "      <td>1609.100000</td>\n",
       "    </tr>\n",
       "    <tr>\n",
       "      <th>2184905</th>\n",
       "      <td>1</td>\n",
       "      <td>0.00</td>\n",
       "      <td>207</td>\n",
       "      <td>260</td>\n",
       "      <td>2</td>\n",
       "      <td>4.50</td>\n",
       "      <td>3</td>\n",
       "      <td>21</td>\n",
       "      <td>2023</td>\n",
       "      <td>11</td>\n",
       "      <td>0</td>\n",
       "      <td>1</td>\n",
       "      <td>1 days 05:36:02</td>\n",
       "      <td>1776.033333</td>\n",
       "    </tr>\n",
       "    <tr>\n",
       "      <th>2487085</th>\n",
       "      <td>1</td>\n",
       "      <td>0.00</td>\n",
       "      <td>207</td>\n",
       "      <td>132</td>\n",
       "      <td>2</td>\n",
       "      <td>4.50</td>\n",
       "      <td>3</td>\n",
       "      <td>24</td>\n",
       "      <td>2023</td>\n",
       "      <td>8</td>\n",
       "      <td>22</td>\n",
       "      <td>4</td>\n",
       "      <td>3 days 04:45:39</td>\n",
       "      <td>4605.650000</td>\n",
       "    </tr>\n",
       "    <tr>\n",
       "      <th>2502305</th>\n",
       "      <td>1</td>\n",
       "      <td>0.00</td>\n",
       "      <td>207</td>\n",
       "      <td>7</td>\n",
       "      <td>2</td>\n",
       "      <td>4.50</td>\n",
       "      <td>3</td>\n",
       "      <td>24</td>\n",
       "      <td>2023</td>\n",
       "      <td>12</td>\n",
       "      <td>43</td>\n",
       "      <td>4</td>\n",
       "      <td>2 days 19:53:55</td>\n",
       "      <td>4073.916667</td>\n",
       "    </tr>\n",
       "    <tr>\n",
       "      <th>2549689</th>\n",
       "      <td>1</td>\n",
       "      <td>0.00</td>\n",
       "      <td>162</td>\n",
       "      <td>265</td>\n",
       "      <td>2</td>\n",
       "      <td>18.70</td>\n",
       "      <td>3</td>\n",
       "      <td>24</td>\n",
       "      <td>2023</td>\n",
       "      <td>19</td>\n",
       "      <td>30</td>\n",
       "      <td>4</td>\n",
       "      <td>3 days 16:03:33</td>\n",
       "      <td>5283.550000</td>\n",
       "    </tr>\n",
       "    <tr>\n",
       "      <th>2577693</th>\n",
       "      <td>2</td>\n",
       "      <td>1.31</td>\n",
       "      <td>68</td>\n",
       "      <td>170</td>\n",
       "      <td>2</td>\n",
       "      <td>20.30</td>\n",
       "      <td>3</td>\n",
       "      <td>24</td>\n",
       "      <td>2023</td>\n",
       "      <td>23</td>\n",
       "      <td>9</td>\n",
       "      <td>4</td>\n",
       "      <td>2 days 11:50:50</td>\n",
       "      <td>3590.833333</td>\n",
       "    </tr>\n",
       "    <tr>\n",
       "      <th>2579336</th>\n",
       "      <td>2</td>\n",
       "      <td>2.50</td>\n",
       "      <td>114</td>\n",
       "      <td>114</td>\n",
       "      <td>2</td>\n",
       "      <td>21.30</td>\n",
       "      <td>3</td>\n",
       "      <td>24</td>\n",
       "      <td>2023</td>\n",
       "      <td>23</td>\n",
       "      <td>9</td>\n",
       "      <td>4</td>\n",
       "      <td>2 days 11:31:24</td>\n",
       "      <td>3571.400000</td>\n",
       "    </tr>\n",
       "    <tr>\n",
       "      <th>2743688</th>\n",
       "      <td>1</td>\n",
       "      <td>0.00</td>\n",
       "      <td>141</td>\n",
       "      <td>141</td>\n",
       "      <td>2</td>\n",
       "      <td>7.00</td>\n",
       "      <td>3</td>\n",
       "      <td>26</td>\n",
       "      <td>2023</td>\n",
       "      <td>15</td>\n",
       "      <td>18</td>\n",
       "      <td>6</td>\n",
       "      <td>1 days 17:50:19</td>\n",
       "      <td>2510.316667</td>\n",
       "    </tr>\n",
       "    <tr>\n",
       "      <th>2743689</th>\n",
       "      <td>1</td>\n",
       "      <td>0.00</td>\n",
       "      <td>193</td>\n",
       "      <td>193</td>\n",
       "      <td>2</td>\n",
       "      <td>7.00</td>\n",
       "      <td>3</td>\n",
       "      <td>26</td>\n",
       "      <td>2023</td>\n",
       "      <td>15</td>\n",
       "      <td>18</td>\n",
       "      <td>6</td>\n",
       "      <td>1 days 17:52:01</td>\n",
       "      <td>2512.016667</td>\n",
       "    </tr>\n",
       "  </tbody>\n",
       "</table>\n",
       "</div>"
      ],
      "text/plain": [
       "         passenger_count  trip_distance  PULocationID  DOLocationID  \\\n",
       "259246                 1          40.02           138           193   \n",
       "305550                 2           0.00           226           226   \n",
       "305551                 1          16.20           132           125   \n",
       "687479                 1           4.28           132           132   \n",
       "687480                 1           8.11           262            65   \n",
       "909315                 1           0.00            76            76   \n",
       "1388676                1           0.00           232           226   \n",
       "1464737                1           2.09            48            42   \n",
       "1655642                1           0.01             7           193   \n",
       "1717647                1           0.68           161           161   \n",
       "1717648                1           0.47            43            43   \n",
       "2038217                1           3.13           161            79   \n",
       "2132919                1           2.64           151           193   \n",
       "2184905                1           0.00           207           260   \n",
       "2487085                1           0.00           207           132   \n",
       "2502305                1           0.00           207             7   \n",
       "2549689                1           0.00           162           265   \n",
       "2577693                2           1.31            68           170   \n",
       "2579336                2           2.50           114           114   \n",
       "2743688                1           0.00           141           141   \n",
       "2743689                1           0.00           193           193   \n",
       "\n",
       "         payment_type  total_amount  mois  jour  annee  heure  minute  \\\n",
       "259246              2        277.45     3     3   2023     12      53   \n",
       "305550              2         21.00     3     3   2023     18       1   \n",
       "305551              1         94.80     3     3   2023     18       1   \n",
       "687479              2         26.05     3     7   2023     15      35   \n",
       "687480              1         48.00     3     7   2023     15      35   \n",
       "909315              1         15.60     3     9   2023     13      31   \n",
       "1388676             2          8.00     3    13   2023     21      23   \n",
       "1464737             2         26.30     3    14   2023     17      10   \n",
       "1655642             2          4.50     3    16   2023     12       9   \n",
       "1717647             2         13.60     3    16   2023     20      20   \n",
       "1717648             1         10.92     3    16   2023     20      20   \n",
       "2038217             2         22.40     3    19   2023     17      59   \n",
       "2132919             2         16.80     3    20   2023     18       7   \n",
       "2184905             2          4.50     3    21   2023     11       0   \n",
       "2487085             2          4.50     3    24   2023      8      22   \n",
       "2502305             2          4.50     3    24   2023     12      43   \n",
       "2549689             2         18.70     3    24   2023     19      30   \n",
       "2577693             2         20.30     3    24   2023     23       9   \n",
       "2579336             2         21.30     3    24   2023     23       9   \n",
       "2743688             2          7.00     3    26   2023     15      18   \n",
       "2743689             2          7.00     3    26   2023     15      18   \n",
       "\n",
       "         joursemaine           durée       duree3  \n",
       "259246             4 2 days 22:48:02  4248.033333  \n",
       "305550             4 2 days 17:33:33  3933.550000  \n",
       "305551             4 2 days 18:32:43  3992.716667  \n",
       "687479             1 1 days 14:51:18  2331.300000  \n",
       "687480             1 1 days 15:04:52  2344.866667  \n",
       "909315             3 3 days 21:57:43  5637.716667  \n",
       "1388676            0 3 days 13:25:13  5125.216667  \n",
       "1464737            1 1 days 15:48:59  2388.983333  \n",
       "1655642            3 1 days 03:21:44  1641.733333  \n",
       "1717647            3 1 days 12:23:52  2183.866667  \n",
       "1717648            3 1 days 12:26:49  2186.816667  \n",
       "2038217            6 1 days 18:37:50  2557.833333  \n",
       "2132919            0 1 days 02:49:06  1609.100000  \n",
       "2184905            1 1 days 05:36:02  1776.033333  \n",
       "2487085            4 3 days 04:45:39  4605.650000  \n",
       "2502305            4 2 days 19:53:55  4073.916667  \n",
       "2549689            4 3 days 16:03:33  5283.550000  \n",
       "2577693            4 2 days 11:50:50  3590.833333  \n",
       "2579336            4 2 days 11:31:24  3571.400000  \n",
       "2743688            6 1 days 17:50:19  2510.316667  \n",
       "2743689            6 1 days 17:52:01  2512.016667  "
      ]
     },
     "execution_count": 196,
     "metadata": {},
     "output_type": "execute_result"
    }
   ],
   "source": [
    "dataframe[dataframe['durée']>un_jour]"
   ]
  },
  {
   "cell_type": "code",
   "execution_count": 197,
   "metadata": {},
   "outputs": [
    {
     "data": {
      "text/plain": [
       "False    3311332\n",
       "True        3009\n",
       "Name: durée, dtype: int64"
      ]
     },
     "execution_count": 197,
     "metadata": {},
     "output_type": "execute_result"
    }
   ],
   "source": [
    "(dataframe['durée']>douze_h).value_counts()"
   ]
  },
  {
   "cell_type": "markdown",
   "metadata": {},
   "source": [
    "### On garde les lignes où les durées de trajet sont inférieurs à 12 heures"
   ]
  },
  {
   "cell_type": "code",
   "execution_count": 198,
   "metadata": {},
   "outputs": [],
   "source": [
    "dataframe.drop(dataframe[(dataframe['durée']>douze_h)].index, inplace=True)"
   ]
  },
  {
   "cell_type": "code",
   "execution_count": 199,
   "metadata": {},
   "outputs": [],
   "source": [
    "after = dataframe.shape"
   ]
  },
  {
   "cell_type": "code",
   "execution_count": 216,
   "metadata": {},
   "outputs": [
    {
     "data": {
      "text/plain": [
       "(3311332, 14)"
      ]
     },
     "execution_count": 216,
     "metadata": {},
     "output_type": "execute_result"
    }
   ],
   "source": [
    "after"
   ]
  },
  {
   "cell_type": "code",
   "execution_count": 200,
   "metadata": {},
   "outputs": [
    {
     "name": "stdout",
     "output_type": "stream",
     "text": [
      "Diminution de 92434 lignes ayant au moins une valeur aberrante\n"
     ]
    }
   ],
   "source": [
    "print(\"Diminution de\", before[0] - after[0], \"lignes ayant au moins une valeur aberrante\")"
   ]
  },
  {
   "cell_type": "code",
   "execution_count": 201,
   "metadata": {},
   "outputs": [
    {
     "name": "stdout",
     "output_type": "stream",
     "text": [
      "Cela représente : 0.027156390891735802 % du jeu de données initiales\n"
     ]
    }
   ],
   "source": [
    "print (\"Cela représente :\", (before[0] - after[0])/before[0], \"% du jeu de données initiales\")"
   ]
  },
  {
   "cell_type": "markdown",
   "metadata": {
    "id": "lFHInCsoflWK"
   },
   "source": [
    "# VISUALISATION DES DONNEES"
   ]
  },
  {
   "cell_type": "code",
   "execution_count": 202,
   "metadata": {
    "id": "x6erMO_Uf8oZ"
   },
   "outputs": [],
   "source": [
    "import seaborn as sns\n",
    "import matplotlib.pyplot as plt"
   ]
  },
  {
   "cell_type": "code",
   "execution_count": 203,
   "metadata": {
    "colab": {
     "base_uri": "https://localhost:8080/"
    },
    "id": "VycNn1JhffOr",
    "outputId": "5cfcf563-caef-44ce-da10-54a7645ce824"
   },
   "outputs": [
    {
     "name": "stdout",
     "output_type": "stream",
     "text": [
      "       passenger_count  trip_distance  PULocationID  DOLocationID  \\\n",
      "count     3.311332e+06   3.311332e+06  3.311332e+06  3.311332e+06   \n",
      "mean      1.365827e+00   3.425356e+00  1.654694e+02  1.641054e+02   \n",
      "std       8.662571e-01   4.435890e+00  6.374880e+01  6.967816e+01   \n",
      "min       1.000000e+00   0.000000e+00  1.000000e+00  1.000000e+00   \n",
      "25%       1.000000e+00   1.060000e+00  1.320000e+02  1.140000e+02   \n",
      "50%       1.000000e+00   1.800000e+00  1.620000e+02  1.620000e+02   \n",
      "75%       1.000000e+00   3.400000e+00  2.330000e+02  2.340000e+02   \n",
      "max       9.000000e+00   9.909000e+01  2.650000e+02  2.650000e+02   \n",
      "\n",
      "       payment_type  total_amount          mois          jour         annee  \\\n",
      "count  3.311332e+06  3.311332e+06  3.311332e+06  3.311332e+06  3.311332e+06   \n",
      "mean   1.166689e+00  2.827345e+01  3.000011e+00  1.588203e+01  2.023000e+03   \n",
      "std    4.883777e-01  2.186429e+01  1.312006e-02  8.984202e+00  2.853900e-02   \n",
      "min    0.000000e+00  1.010000e+00  1.000000e+00  1.000000e+00  2.001000e+03   \n",
      "25%    1.000000e+00  1.595000e+01  3.000000e+00  8.000000e+00  2.023000e+03   \n",
      "50%    1.000000e+00  2.070000e+01  3.000000e+00  1.600000e+01  2.023000e+03   \n",
      "75%    1.000000e+00  2.988000e+01  3.000000e+00  2.400000e+01  2.023000e+03   \n",
      "max    4.000000e+00  2.995500e+02  1.200000e+01  3.100000e+01  2.023000e+03   \n",
      "\n",
      "              heure        minute   joursemaine                      durée  \\\n",
      "count  3.311332e+06  3.311332e+06  3.311332e+06                    3311332   \n",
      "mean   1.434925e+01  2.954495e+01  3.025814e+00  0 days 00:15:42.828691596   \n",
      "std    5.761455e+00  1.733970e+01  1.847583e+00  0 days 00:13:27.860130873   \n",
      "min    0.000000e+00  0.000000e+00  0.000000e+00          -1 days +16:03:45   \n",
      "25%    1.100000e+01  1.400000e+01  2.000000e+00            0 days 00:07:27   \n",
      "50%    1.500000e+01  3.000000e+01  3.000000e+00            0 days 00:12:11   \n",
      "75%    1.900000e+01  4.500000e+01  4.000000e+00            0 days 00:19:40   \n",
      "max    2.300000e+01  5.900000e+01  6.000000e+00            0 days 11:59:05   \n",
      "\n",
      "             duree3  \n",
      "count  3.311332e+06  \n",
      "mean   1.571381e+01  \n",
      "std    1.346434e+01  \n",
      "min   -4.762500e+02  \n",
      "25%    7.450000e+00  \n",
      "50%    1.218333e+01  \n",
      "75%    1.966667e+01  \n",
      "max    7.190833e+02  \n"
     ]
    }
   ],
   "source": [
    "print(dataframe.describe())"
   ]
  },
  {
   "cell_type": "code",
   "execution_count": 204,
   "metadata": {
    "colab": {
     "base_uri": "https://localhost:8080/"
    },
    "id": "3ReMiXGF3nHk",
    "outputId": "0366f1f4-6788-43f5-d72b-c1195ecd4e05"
   },
   "outputs": [
    {
     "name": "stdout",
     "output_type": "stream",
     "text": [
      "Nombre de \"lignes\" = 3311332\n",
      "Nombre d'attributs = 14\n"
     ]
    }
   ],
   "source": [
    "# Chiffrage du jeu de données après traitement des valeurs nulles\n",
    "print('Nombre de \"lignes\" = %d' % (dataframe.shape[0]))\n",
    "print('Nombre d\\'attributs = %d' % (dataframe.shape[1]))"
   ]
  },
  {
   "cell_type": "code",
   "execution_count": 205,
   "metadata": {
    "colab": {
     "base_uri": "https://localhost:8080/",
     "height": 472
    },
    "id": "n3LLXkM8f14j",
    "outputId": "9ab63569-d94a-4d95-9363-b759f749ce82"
   },
   "outputs": [
    {
     "data": {
      "image/png": "[encoded data removed]",
      "text/plain": [
       "<Figure size 640x480 with 1 Axes>"
      ]
     },
     "metadata": {},
     "output_type": "display_data"
    }
   ],
   "source": [
    "#Distribution du prix total d'une course\n",
    "sns.histplot(dataframe[\"total_amount\"], bins=20, kde=False)\n",
    "plt.title(\"Répartition du prix total d'une course\")\n",
    "plt.ylabel('Nombre de trajets (en centaine de milliers)')\n",
    "plt.show()"
   ]
  },
  {
   "cell_type": "code",
   "execution_count": 206,
   "metadata": {
    "colab": {
     "base_uri": "https://localhost:8080/",
     "height": 472
    },
    "id": "zbMWsCuD0m8o",
    "outputId": "7242220d-0f78-41ba-e03c-38d39cf2b1e6"
   },
   "outputs": [
    {
     "data": {
      "image/png": "[encoded data removed]",
      "text/plain": [
       "<Figure size 640x480 with 1 Axes>"
      ]
     },
     "metadata": {},
     "output_type": "display_data"
    }
   ],
   "source": [
    "plt.scatter(dataframe['trip_distance'],dataframe['total_amount'])\n",
    "plt.xlabel('Distance du trajet')\n",
    "plt.ylabel('Montant total payé')\n",
    "plt.title('Relation entre la distance du trajet et le montant total payé')\n",
    "plt.show()"
   ]
  },
  {
   "cell_type": "code",
   "execution_count": 207,
   "metadata": {
    "colab": {
     "base_uri": "https://localhost:8080/",
     "height": 472
    },
    "id": "I3fPyB1w4EOi",
    "outputId": "b71438f8-28b8-4943-ba90-89c4807030f8"
   },
   "outputs": [
    {
     "data": {
      "image/png": "[encoded data removed]",
      "text/plain": [
       "<Figure size 640x480 with 1 Axes>"
      ]
     },
     "metadata": {},
     "output_type": "display_data"
    }
   ],
   "source": [
    "plt.show()sns.countplot(x='joursemaine', data=dataframe)\n",
    "plt.xlabel('Jour de la semaine')\n",
    "plt.ylabel('Nombre de trajets')\n",
    "plt.title('Nombre de trajets par jour de la semaine')\n",
    "plt.xticks(rotation=0)\n",
    "plt.show()"
   ]
  },
  {
   "cell_type": "code",
   "execution_count": 208,
   "metadata": {
    "colab": {
     "base_uri": "https://localhost:8080/",
     "height": 449
    },
    "id": "_XePgQ294Lgj",
    "outputId": "04b523a9-1203-4bce-db0f-a81a90a78dd6"
   },
   "outputs": [
    {
     "data": {
      "image/png": "[encoded data removed]",
      "text/plain": [
       "<Figure size 640x480 with 1 Axes>"
      ]
     },
     "metadata": {},
     "output_type": "display_data"
    }
   ],
   "source": [
    "sns.countplot(x='heure', data=dataframe)\n",
    "plt.xlabel('Heure de la journée')\n",
    "plt.ylabel('Nombre de trajets')\n",
    "plt.title('Nombre de trajets par heure de la journée')\n",
    "plt.show()"
   ]
  },
  {
   "cell_type": "code",
   "execution_count": 209,
   "metadata": {
    "colab": {
     "base_uri": "https://localhost:8080/",
     "height": 571
    },
    "id": "EEcMoYKx5OtH",
    "outputId": "6a79a4a1-f37d-41c0-c46b-a43d47d5a3fb"
   },
   "outputs": [
    {
     "data": {
      "image/png": "[encoded data removed]",
      "text/plain": [
       "<Figure size 640x480 with 1 Axes>"
      ]
     },
     "metadata": {},
     "output_type": "display_data"
    }
   ],
   "source": [
    "sns.countplot(x='joursemaine',hue='heure', data=dataframe)\n",
    "plt.legend(bbox_to_anchor=(1.05,1),loc='upper left',title='Heures')\n",
    "plt.xlabel('Jour de la semaine')\n",
    "plt.ylabel('Nombre de trajets')\n",
    "plt.title('Nombre de trajets par jour de la semaine et heure de la journée')\n",
    "plt.show()"
   ]
  },
  {
   "cell_type": "code",
   "execution_count": 218,
   "metadata": {
    "colab": {
     "base_uri": "https://localhost:8080/",
     "height": 472
    },
    "id": "PaJ-iIxt5SbP",
    "outputId": "1fc79d27-7ed1-47dd-f63b-b6e2bbbb6f1b"
   },
   "outputs": [
    {
     "data": {
      "image/png": "[encoded data removed]",
      "text/plain": [
       "<Figure size 640x480 with 1 Axes>"
      ]
     },
     "metadata": {},
     "output_type": "display_data"
    }
   ],
   "source": [
    "sns.kdeplot(dataframe['trip_distance'], color='green')\n",
    "plt.xlabel('Distance du trajet')\n",
    "plt.ylabel('Densité')\n",
    "plt.title('Densité des distances de trajet')\n",
    "plt.show()"
   ]
  },
  {
   "cell_type": "code",
   "execution_count": 217,
   "metadata": {},
   "outputs": [
    {
     "data": {
      "image/png": "[encoded data removed]",
      "text/plain": [
       "<Figure size 640x480 with 1 Axes>"
      ]
     },
     "metadata": {},
     "output_type": "display_data"
    }
   ],
   "source": [
    "sns.histplot(dataframe[\"passenger_count\"], bins=20, kde=False, color='red')\n",
    "plt.xlabel('Nombre de passagers')\n",
    "plt.ylabel('Nombre de trajets (en centaine de milliers)')\n",
    "plt.title('Répartition du nombre de passagers par course')\n",
    "plt.show()"
   ]
  },
  {
   "cell_type": "code",
   "execution_count": 223,
   "metadata": {
    "colab": {
     "base_uri": "https://localhost:8080/",
     "height": 472
    },
    "id": "n3LLXkM8f14j",
    "outputId": "9ab63569-d94a-4d95-9363-b759f749ce82"
   },
   "outputs": [
    {
     "ename": "KeyError",
     "evalue": "'duree'",
     "output_type": "error",
     "traceback": [
      "\u001b[1;31m---------------------------------------------------------------------------\u001b[0m",
      "\u001b[1;31mKeyError\u001b[0m                                  Traceback (most recent call last)",
      "\u001b[1;32m~\\anaconda3\\lib\\site-packages\\pandas\\core\\indexes\\base.py\u001b[0m in \u001b[0;36mget_loc\u001b[1;34m(self, key, method, tolerance)\u001b[0m\n\u001b[0;32m   3628\u001b[0m             \u001b[1;32mtry\u001b[0m\u001b[1;33m:\u001b[0m\u001b[1;33m\u001b[0m\u001b[1;33m\u001b[0m\u001b[0m\n\u001b[1;32m-> 3629\u001b[1;33m                 \u001b[1;32mreturn\u001b[0m \u001b[0mself\u001b[0m\u001b[1;33m.\u001b[0m\u001b[0m_engine\u001b[0m\u001b[1;33m.\u001b[0m\u001b[0mget_loc\u001b[0m\u001b[1;33m(\u001b[0m\u001b[0mcasted_key\u001b[0m\u001b[1;33m)\u001b[0m\u001b[1;33m\u001b[0m\u001b[1;33m\u001b[0m\u001b[0m\n\u001b[0m\u001b[0;32m   3630\u001b[0m             \u001b[1;32mexcept\u001b[0m \u001b[0mKeyError\u001b[0m \u001b[1;32mas\u001b[0m \u001b[0merr\u001b[0m\u001b[1;33m:\u001b[0m\u001b[1;33m\u001b[0m\u001b[1;33m\u001b[0m\u001b[0m\n",
      "\u001b[1;32m~\\anaconda3\\lib\\site-packages\\pandas\\_libs\\index.pyx\u001b[0m in \u001b[0;36mpandas._libs.index.IndexEngine.get_loc\u001b[1;34m()\u001b[0m\n",
      "\u001b[1;32m~\\anaconda3\\lib\\site-packages\\pandas\\_libs\\index.pyx\u001b[0m in \u001b[0;36mpandas._libs.index.IndexEngine.get_loc\u001b[1;34m()\u001b[0m\n",
      "\u001b[1;32mpandas\\_libs\\hashtable_class_helper.pxi\u001b[0m in \u001b[0;36mpandas._libs.hashtable.PyObjectHashTable.get_item\u001b[1;34m()\u001b[0m\n",
      "\u001b[1;32mpandas\\_libs\\hashtable_class_helper.pxi\u001b[0m in \u001b[0;36mpandas._libs.hashtable.PyObjectHashTable.get_item\u001b[1;34m()\u001b[0m\n",
      "\u001b[1;31mKeyError\u001b[0m: 'duree'",
      "\nThe above exception was the direct cause of the following exception:\n",
      "\u001b[1;31mKeyError\u001b[0m                                  Traceback (most recent call last)",
      "\u001b[1;32m~\\AppData\\Local\\Temp\\ipykernel_2276\\2140347342.py\u001b[0m in \u001b[0;36m<module>\u001b[1;34m\u001b[0m\n\u001b[0;32m      1\u001b[0m \u001b[1;31m#Distribution de la durée d'une course\u001b[0m\u001b[1;33m\u001b[0m\u001b[1;33m\u001b[0m\u001b[0m\n\u001b[0;32m      2\u001b[0m \u001b[1;33m\u001b[0m\u001b[0m\n\u001b[1;32m----> 3\u001b[1;33m \u001b[0msns\u001b[0m\u001b[1;33m.\u001b[0m\u001b[0mkdeplot\u001b[0m\u001b[1;33m(\u001b[0m\u001b[0mdataframe\u001b[0m\u001b[1;33m[\u001b[0m\u001b[1;34m\"duree\"\u001b[0m\u001b[1;33m]\u001b[0m\u001b[1;33m,\u001b[0m \u001b[0mcolor\u001b[0m\u001b[1;33m=\u001b[0m\u001b[1;34m'brown'\u001b[0m\u001b[1;33m)\u001b[0m\u001b[1;33m\u001b[0m\u001b[1;33m\u001b[0m\u001b[0m\n\u001b[0m\u001b[0;32m      4\u001b[0m \u001b[0mplt\u001b[0m\u001b[1;33m.\u001b[0m\u001b[0mtitle\u001b[0m\u001b[1;33m(\u001b[0m\u001b[1;34m\"Répartition de la durée des courses\"\u001b[0m\u001b[1;33m)\u001b[0m\u001b[1;33m\u001b[0m\u001b[1;33m\u001b[0m\u001b[0m\n\u001b[0;32m      5\u001b[0m \u001b[0mplt\u001b[0m\u001b[1;33m.\u001b[0m\u001b[0mylabel\u001b[0m\u001b[1;33m(\u001b[0m\u001b[1;34m'Nombre de trajets (en centaine de milliers)'\u001b[0m\u001b[1;33m)\u001b[0m\u001b[1;33m\u001b[0m\u001b[1;33m\u001b[0m\u001b[0m\n",
      "\u001b[1;32m~\\anaconda3\\lib\\site-packages\\pandas\\core\\frame.py\u001b[0m in \u001b[0;36m__getitem__\u001b[1;34m(self, key)\u001b[0m\n\u001b[0;32m   3503\u001b[0m             \u001b[1;32mif\u001b[0m \u001b[0mself\u001b[0m\u001b[1;33m.\u001b[0m\u001b[0mcolumns\u001b[0m\u001b[1;33m.\u001b[0m\u001b[0mnlevels\u001b[0m \u001b[1;33m>\u001b[0m \u001b[1;36m1\u001b[0m\u001b[1;33m:\u001b[0m\u001b[1;33m\u001b[0m\u001b[1;33m\u001b[0m\u001b[0m\n\u001b[0;32m   3504\u001b[0m                 \u001b[1;32mreturn\u001b[0m \u001b[0mself\u001b[0m\u001b[1;33m.\u001b[0m\u001b[0m_getitem_multilevel\u001b[0m\u001b[1;33m(\u001b[0m\u001b[0mkey\u001b[0m\u001b[1;33m)\u001b[0m\u001b[1;33m\u001b[0m\u001b[1;33m\u001b[0m\u001b[0m\n\u001b[1;32m-> 3505\u001b[1;33m             \u001b[0mindexer\u001b[0m \u001b[1;33m=\u001b[0m \u001b[0mself\u001b[0m\u001b[1;33m.\u001b[0m\u001b[0mcolumns\u001b[0m\u001b[1;33m.\u001b[0m\u001b[0mget_loc\u001b[0m\u001b[1;33m(\u001b[0m\u001b[0mkey\u001b[0m\u001b[1;33m)\u001b[0m\u001b[1;33m\u001b[0m\u001b[1;33m\u001b[0m\u001b[0m\n\u001b[0m\u001b[0;32m   3506\u001b[0m             \u001b[1;32mif\u001b[0m \u001b[0mis_integer\u001b[0m\u001b[1;33m(\u001b[0m\u001b[0mindexer\u001b[0m\u001b[1;33m)\u001b[0m\u001b[1;33m:\u001b[0m\u001b[1;33m\u001b[0m\u001b[1;33m\u001b[0m\u001b[0m\n\u001b[0;32m   3507\u001b[0m                 \u001b[0mindexer\u001b[0m \u001b[1;33m=\u001b[0m \u001b[1;33m[\u001b[0m\u001b[0mindexer\u001b[0m\u001b[1;33m]\u001b[0m\u001b[1;33m\u001b[0m\u001b[1;33m\u001b[0m\u001b[0m\n",
      "\u001b[1;32m~\\anaconda3\\lib\\site-packages\\pandas\\core\\indexes\\base.py\u001b[0m in \u001b[0;36mget_loc\u001b[1;34m(self, key, method, tolerance)\u001b[0m\n\u001b[0;32m   3629\u001b[0m                 \u001b[1;32mreturn\u001b[0m \u001b[0mself\u001b[0m\u001b[1;33m.\u001b[0m\u001b[0m_engine\u001b[0m\u001b[1;33m.\u001b[0m\u001b[0mget_loc\u001b[0m\u001b[1;33m(\u001b[0m\u001b[0mcasted_key\u001b[0m\u001b[1;33m)\u001b[0m\u001b[1;33m\u001b[0m\u001b[1;33m\u001b[0m\u001b[0m\n\u001b[0;32m   3630\u001b[0m             \u001b[1;32mexcept\u001b[0m \u001b[0mKeyError\u001b[0m \u001b[1;32mas\u001b[0m \u001b[0merr\u001b[0m\u001b[1;33m:\u001b[0m\u001b[1;33m\u001b[0m\u001b[1;33m\u001b[0m\u001b[0m\n\u001b[1;32m-> 3631\u001b[1;33m                 \u001b[1;32mraise\u001b[0m \u001b[0mKeyError\u001b[0m\u001b[1;33m(\u001b[0m\u001b[0mkey\u001b[0m\u001b[1;33m)\u001b[0m \u001b[1;32mfrom\u001b[0m \u001b[0merr\u001b[0m\u001b[1;33m\u001b[0m\u001b[1;33m\u001b[0m\u001b[0m\n\u001b[0m\u001b[0;32m   3632\u001b[0m             \u001b[1;32mexcept\u001b[0m \u001b[0mTypeError\u001b[0m\u001b[1;33m:\u001b[0m\u001b[1;33m\u001b[0m\u001b[1;33m\u001b[0m\u001b[0m\n\u001b[0;32m   3633\u001b[0m                 \u001b[1;31m# If we have a listlike key, _check_indexing_error will raise\u001b[0m\u001b[1;33m\u001b[0m\u001b[1;33m\u001b[0m\u001b[0m\n",
      "\u001b[1;31mKeyError\u001b[0m: 'duree'"
     ]
    }
   ],
   "source": [
    "#Distribution de la durée d'une course\n",
    "\n",
    "sns.kdeplot(dataframe[\"duree\"], color='brown')\n",
    "plt.title(\"Répartition de la durée des courses\")\n",
    "plt.ylabel('Nombre de trajets (en centaine de milliers)')\n",
    "plt.show()"
   ]
  },
  {
   "cell_type": "markdown",
   "metadata": {
    "id": "8h5ZqNI_4j4e"
   },
   "source": [
    "# Machine Learning (modèles)"
   ]
  },
  {
   "cell_type": "markdown",
   "metadata": {},
   "source": [
    "## KNN "
   ]
  },
  {
   "cell_type": "code",
   "execution_count": 212,
   "metadata": {
    "id": "o1adbPjq5BWl"
   },
   "outputs": [],
   "source": [
    "from sklearn.model_selection import train_test_split, cross_val_score\n",
    "from sklearn.preprocessing import StandardScaler\n",
    "from sklearn.neighbors import KNeighborsRegressor, KNeighborsClassifier\n",
    "from sklearn.metrics import mean_squared_error, r2_score, mean_absolute_error"
   ]
  },
  {
   "cell_type": "code",
   "execution_count": 213,
   "metadata": {},
   "outputs": [
    {
     "data": {
      "text/html": [
       "<div>\n",
       "<style scoped>\n",
       "    .dataframe tbody tr th:only-of-type {\n",
       "        vertical-align: middle;\n",
       "    }\n",
       "\n",
       "    .dataframe tbody tr th {\n",
       "        vertical-align: top;\n",
       "    }\n",
       "\n",
       "    .dataframe thead th {\n",
       "        text-align: right;\n",
       "    }\n",
       "</style>\n",
       "<table border=\"1\" class=\"dataframe\">\n",
       "  <thead>\n",
       "    <tr style=\"text-align: right;\">\n",
       "      <th></th>\n",
       "      <th>passenger_count</th>\n",
       "      <th>trip_distance</th>\n",
       "      <th>PULocationID</th>\n",
       "      <th>DOLocationID</th>\n",
       "      <th>payment_type</th>\n",
       "      <th>total_amount</th>\n",
       "      <th>mois</th>\n",
       "      <th>jour</th>\n",
       "      <th>annee</th>\n",
       "      <th>heure</th>\n",
       "      <th>minute</th>\n",
       "      <th>joursemaine</th>\n",
       "      <th>durée</th>\n",
       "      <th>duree3</th>\n",
       "    </tr>\n",
       "  </thead>\n",
       "  <tbody>\n",
       "    <tr>\n",
       "      <th>0</th>\n",
       "      <td>1</td>\n",
       "      <td>0.00</td>\n",
       "      <td>238</td>\n",
       "      <td>42</td>\n",
       "      <td>2</td>\n",
       "      <td>11.10</td>\n",
       "      <td>3</td>\n",
       "      <td>1</td>\n",
       "      <td>2023</td>\n",
       "      <td>0</td>\n",
       "      <td>6</td>\n",
       "      <td>2</td>\n",
       "      <td>0 days 00:10:00</td>\n",
       "      <td>10.000000</td>\n",
       "    </tr>\n",
       "    <tr>\n",
       "      <th>1</th>\n",
       "      <td>2</td>\n",
       "      <td>12.40</td>\n",
       "      <td>138</td>\n",
       "      <td>231</td>\n",
       "      <td>1</td>\n",
       "      <td>76.49</td>\n",
       "      <td>3</td>\n",
       "      <td>1</td>\n",
       "      <td>2023</td>\n",
       "      <td>0</td>\n",
       "      <td>8</td>\n",
       "      <td>2</td>\n",
       "      <td>0 days 00:31:05</td>\n",
       "      <td>31.083333</td>\n",
       "    </tr>\n",
       "    <tr>\n",
       "      <th>3</th>\n",
       "      <td>1</td>\n",
       "      <td>2.90</td>\n",
       "      <td>140</td>\n",
       "      <td>43</td>\n",
       "      <td>1</td>\n",
       "      <td>24.70</td>\n",
       "      <td>3</td>\n",
       "      <td>1</td>\n",
       "      <td>2023</td>\n",
       "      <td>0</td>\n",
       "      <td>49</td>\n",
       "      <td>2</td>\n",
       "      <td>0 days 00:11:28</td>\n",
       "      <td>11.466667</td>\n",
       "    </tr>\n",
       "    <tr>\n",
       "      <th>4</th>\n",
       "      <td>1</td>\n",
       "      <td>1.23</td>\n",
       "      <td>79</td>\n",
       "      <td>137</td>\n",
       "      <td>1</td>\n",
       "      <td>14.64</td>\n",
       "      <td>3</td>\n",
       "      <td>1</td>\n",
       "      <td>2023</td>\n",
       "      <td>0</td>\n",
       "      <td>8</td>\n",
       "      <td>2</td>\n",
       "      <td>0 days 00:03:02</td>\n",
       "      <td>3.033333</td>\n",
       "    </tr>\n",
       "    <tr>\n",
       "      <th>5</th>\n",
       "      <td>1</td>\n",
       "      <td>1.20</td>\n",
       "      <td>162</td>\n",
       "      <td>137</td>\n",
       "      <td>1</td>\n",
       "      <td>18.00</td>\n",
       "      <td>3</td>\n",
       "      <td>1</td>\n",
       "      <td>2023</td>\n",
       "      <td>0</td>\n",
       "      <td>9</td>\n",
       "      <td>2</td>\n",
       "      <td>0 days 00:08:25</td>\n",
       "      <td>8.416667</td>\n",
       "    </tr>\n",
       "  </tbody>\n",
       "</table>\n",
       "</div>"
      ],
      "text/plain": [
       "   passenger_count  trip_distance  PULocationID  DOLocationID  payment_type  \\\n",
       "0                1           0.00           238            42             2   \n",
       "1                2          12.40           138           231             1   \n",
       "3                1           2.90           140            43             1   \n",
       "4                1           1.23            79           137             1   \n",
       "5                1           1.20           162           137             1   \n",
       "\n",
       "   total_amount  mois  jour  annee  heure  minute  joursemaine  \\\n",
       "0         11.10     3     1   2023      0       6            2   \n",
       "1         76.49     3     1   2023      0       8            2   \n",
       "3         24.70     3     1   2023      0      49            2   \n",
       "4         14.64     3     1   2023      0       8            2   \n",
       "5         18.00     3     1   2023      0       9            2   \n",
       "\n",
       "            durée     duree3  \n",
       "0 0 days 00:10:00  10.000000  \n",
       "1 0 days 00:31:05  31.083333  \n",
       "3 0 days 00:11:28  11.466667  \n",
       "4 0 days 00:03:02   3.033333  \n",
       "5 0 days 00:08:25   8.416667  "
      ]
     },
     "execution_count": 213,
     "metadata": {},
     "output_type": "execute_result"
    }
   ],
   "source": [
    "dataframe.head()"
   ]
  },
  {
   "cell_type": "code",
   "execution_count": 214,
   "metadata": {},
   "outputs": [],
   "source": [
    "# Séparation des caractéristiques (X) et de la variable cible (y)\n",
    "\n",
    "#X = dataframe[['passenger_count','trip_distance','PULocationID','DOLocationID','payment_type', 'mois','jour','annee','heure','minute','joursemaine','duree3']]  # Caractéristiques\n",
    "#Y = dataframe['total_amount']  # Variable cible\n",
    "\n",
    "# Séparation des données d'entraînement et de test\n",
    "\n",
    "#X_train, X_test, y_train, y_test = train_test_split(X, Y, test_size=0.2, random_state=14)\n",
    "\n",
    "# Définir la liste des nombres de voisins à tester\n",
    "\n",
    "#neighbors = [5, 9, 11, 13]\n",
    "\n",
    "# Initialiser une liste pour stocker les scores de validation\n",
    "\n",
    "#scores = []\n",
    "\n",
    "# Parcourir chaque nombre de voisins et évaluer le modèle\n",
    "\n",
    "#for k in neighbors:\n",
    "    #Créer une instance du modèle KNN avec le nombre de voisins actuel\n",
    "   # knn_regressor = KNeighborsRegressor(n_neighbors=k)\n",
    "    \n",
    "    # Effectuer la validation croisée et calculer le score moyen\n",
    "#cv_scores = cross_val_score(knn_regressor, X_train, y_train, cv=5, scoring='neg_mean_squared_error')\n",
    "#Stocker le score moyen (RMSE négatif)\n",
    "#scores.append(-cv_scores.mean())\n",
    "\n",
    "# Trouver le nombre de voisins avec le meilleur score\n",
    "#best_neighbors = neighbors[scores.index(min(scores))]\n"
   ]
  },
  {
   "cell_type": "code",
   "execution_count": 215,
   "metadata": {},
   "outputs": [],
   "source": [
    "#best_neighbors"
   ]
  },
  {
   "cell_type": "markdown",
   "metadata": {},
   "source": [
    "### Après analyse du nombre de voisins optimal : n = 9 (Parmi 5, 9, 11, 13)\n",
    "\n"
   ]
  },
  {
   "cell_type": "code",
   "execution_count": 222,
   "metadata": {},
   "outputs": [
    {
     "name": "stdout",
     "output_type": "stream",
     "text": [
      "Erreur quadratique moyenne (MSE) : 49.99\n",
      "Coefficient de détermination (R2) : 89.58 %\n",
      "Erreur absolue moyenne (MAE): 3.34\n"
     ]
    }
   ],
   "source": [
    "# Séparation des caractéristiques (X) et de la variable cible (y)\n",
    "X = dataframe[['passenger_count','trip_distance','PULocationID','DOLocationID','payment_type', 'mois','jour','annee','heure','minute','joursemaine','duree3']]  # Caractéristiques\n",
    "Y = dataframe['total_amount']  # Variable cible\n",
    "\n",
    "# Séparation des données d'entraînement et de test\n",
    "X_train, X_test, y_train, y_test = train_test_split(X, Y, test_size=0.3, random_state=14)\n",
    "\n",
    "# Création du modèle KNN\n",
    "knn = KNeighborsRegressor(n_neighbors=9)  # Spécifiez le nombre de voisins (K) à utiliser\n",
    "\n",
    "# Entraînement du modèle\n",
    "knn.fit(X_train, y_train)\n",
    "\n",
    "# Prédiction sur les données de test\n",
    "y_pred = knn.predict(X_test)\n",
    "\n",
    "# Évaluation du modèle\n",
    "mse = mean_squared_error(y_test, y_pred)\n",
    "r2 = r2_score(y_test, y_pred)\n",
    "\n",
    "print(\"Erreur quadratique moyenne (MSE) :\", round(mse,2))\n",
    "print(\"Coefficient de détermination (R2) :\", round(r2*100,2), \"%\")\n",
    "mae = mean_absolute_error(y_test, y_pred)\n",
    "print(\"Erreur absolue moyenne (MAE):\", round(mae,2))"
   ]
  },
  {
   "cell_type": "markdown",
   "metadata": {},
   "source": [
    "## Réseaux de neurones"
   ]
  },
  {
   "cell_type": "code",
   "execution_count": 138,
   "metadata": {},
   "outputs": [],
   "source": [
    "from tensorflow.keras.models import Sequential\n",
    "from tensorflow.keras.layers import Dense\n",
    "from sklearn.preprocessing import StandardScaler"
   ]
  },
  {
   "cell_type": "code",
   "execution_count": 139,
   "metadata": {
    "scrolled": true
   },
   "outputs": [
    {
     "name": "stdout",
     "output_type": "stream",
     "text": [
      "Epoch 1/20\n",
      "73711/73711 [==============================] - 105s 1ms/step - loss: 58.8464\n",
      "Epoch 2/20\n",
      "73711/73711 [==============================] - 104s 1ms/step - loss: 51.7769\n",
      "Epoch 3/20\n",
      "73711/73711 [==============================] - 94s 1ms/step - loss: 50.4431\n",
      "Epoch 4/20\n",
      "73711/73711 [==============================] - 104s 1ms/step - loss: 42.6475\n",
      "Epoch 5/20\n",
      "73711/73711 [==============================] - 98s 1ms/step - loss: 56.2241\n",
      "Epoch 6/20\n",
      "73711/73711 [==============================] - 100s 1ms/step - loss: 62.7753\n",
      "Epoch 7/20\n",
      "73711/73711 [==============================] - 99s 1ms/step - loss: 51.0690\n",
      "Epoch 8/20\n",
      "73711/73711 [==============================] - 104s 1ms/step - loss: 54.2891\n",
      "Epoch 9/20\n",
      "73711/73711 [==============================] - 102s 1ms/step - loss: 69.5505\n",
      "Epoch 10/20\n",
      "73711/73711 [==============================] - 99s 1ms/step - loss: 44.9572\n",
      "Epoch 11/20\n",
      "73711/73711 [==============================] - 96s 1ms/step - loss: 44.4285\n",
      "Epoch 12/20\n",
      "73711/73711 [==============================] - 109s 1ms/step - loss: 94.9182\n",
      "Epoch 13/20\n",
      "73711/73711 [==============================] - 100s 1ms/step - loss: 53.4922\n",
      "Epoch 14/20\n",
      "73711/73711 [==============================] - 103s 1ms/step - loss: 49.6475\n",
      "Epoch 15/20\n",
      "73711/73711 [==============================] - 104s 1ms/step - loss: 63.1539\n",
      "Epoch 16/20\n",
      "73711/73711 [==============================] - 105s 1ms/step - loss: 54.9268\n",
      "Epoch 17/20\n",
      "73711/73711 [==============================] - 103s 1ms/step - loss: 39.5613\n",
      "Epoch 18/20\n",
      "73711/73711 [==============================] - 102s 1ms/step - loss: 42.5950\n",
      "Epoch 19/20\n",
      "73711/73711 [==============================] - 101s 1ms/step - loss: 46.0535\n",
      "Epoch 20/20\n",
      "73711/73711 [==============================] - 101s 1ms/step - loss: 43.7300\n",
      "31591/31591 [==============================] - 32s 1ms/step\n",
      "Erreur quadratique moyenne (MSE) : 36.25\n",
      "Coefficient de détermination (R2) : 92.38 %\n",
      "Erreur absolue moyenne (MAE): 2.42\n"
     ]
    }
   ],
   "source": [
    "# Séparation des caractéristiques (X) et de la variable cible (y)\n",
    "X = dataframe[['passenger_count','trip_distance','PULocationID','DOLocationID','payment_type', 'mois','jour','annee','heure','minute','joursemaine','duree3']]  # Caractéristiques\n",
    "Y = dataframe['total_amount']  # Variable cible\n",
    "\n",
    "# Normalisation des données\n",
    "scaler = StandardScaler()\n",
    "X_scaled = scaler.fit_transform(X)\n",
    "\n",
    "# Séparation des données d'entraînement et de test\n",
    "X_train, X_test, y_train, y_test = train_test_split(X_scaled, Y, test_size=0.3, random_state=14)\n",
    "\n",
    "# Création du modèle de réseau de neurones\n",
    "model = Sequential()\n",
    "model.add(Dense(32, activation='relu', input_dim=X_train.shape[1]))\n",
    "model.add(Dense(16, activation='relu'))\n",
    "model.add(Dense(8, activation='relu'))\n",
    "model.add(Dense(1, activation='linear'))\n",
    "\n",
    "# Compilation du modèle\n",
    "model.compile(loss='mean_squared_error', optimizer='adam')\n",
    "\n",
    "# Entraînement du modèle\n",
    "model.fit(X_train, y_train, epochs=20, batch_size=32, verbose=1)\n",
    "\n",
    "# Prédiction sur les données de test\n",
    "y_pred = model.predict(X_test)\n",
    "\n",
    "# Évaluation du modèle\n",
    "mse = mean_squared_error(y_test, y_pred)\n",
    "r2 = r2_score(y_test, y_pred)\n",
    "\n",
    "print(\"Erreur quadratique moyenne (MSE) :\", round(mse,2))\n",
    "print(\"Coefficient de détermination (R2) :\", round(r2*100,2), \"%\")\n",
    "mae = mean_absolute_error(y_test, y_pred)\n",
    "print(\"Erreur absolue moyenne (MAE):\", round(mae,2))"
   ]
  },
  {
   "cell_type": "markdown",
   "metadata": {},
   "source": [
    "## XGboost"
   ]
  },
  {
   "cell_type": "code",
   "execution_count": 140,
   "metadata": {},
   "outputs": [
    {
     "name": "stdout",
     "output_type": "stream",
     "text": [
      "Requirement already satisfied: xgboost in c:\\users\\lucas\\anaconda3\\lib\\site-packages (1.7.6)\n",
      "Requirement already satisfied: scipy in c:\\users\\lucas\\anaconda3\\lib\\site-packages (from xgboost) (1.9.1)\n",
      "Requirement already satisfied: numpy in c:\\users\\lucas\\anaconda3\\lib\\site-packages (from xgboost) (1.21.5)\n"
     ]
    }
   ],
   "source": [
    "!pip install xgboost"
   ]
  },
  {
   "cell_type": "code",
   "execution_count": 141,
   "metadata": {},
   "outputs": [],
   "source": [
    "import xgboost as xgb"
   ]
  },
  {
   "cell_type": "code",
   "execution_count": 239,
   "metadata": {},
   "outputs": [],
   "source": [
    "# Sélectionnez vos fonctionnalités (variables indépendantes) et votre variable cible (variable dépendante)\n",
    "X = dataframe[['passenger_count','trip_distance','PULocationID','DOLocationID','payment_type', 'mois','jour','annee','heure','minute','joursemaine','duree3']]  # Caractéristiques\n",
    "Y = dataframe['total_amount']  # Variable cible\n",
    "\n",
    "# Divisez les données en ensembles d'entraînement et de test\n",
    "X_train, X_test, y_train, y_test = train_test_split(X, Y, test_size=0.3, random_state=14)"
   ]
  },
  {
   "cell_type": "code",
   "execution_count": 240,
   "metadata": {},
   "outputs": [],
   "source": [
    "# Créez le modèle XGBoost\n",
    "xgb_model = xgb.XGBRegressor()\n",
    "\n",
    "# Entraînez le modèle\n",
    "xgb_model.fit(X_train, y_train)\n",
    "\n",
    "# Faites des prédictions sur l'ensemble de test\n",
    "y_pred = xgb_model.predict(X_test)\n",
    "\n",
    "# Évaluez les performances du modèle\n",
    "mse = mean_squared_error(y_test, y_pred)\n",
    "r2 = r2_score(y_test, y_pred)"
   ]
  },
  {
   "cell_type": "code",
   "execution_count": 144,
   "metadata": {},
   "outputs": [
    {
     "name": "stdout",
     "output_type": "stream",
     "text": [
      "Erreur quadratique moyenne (MSE) : 25.57\n",
      "Coefficient de détermination (R2) : 94.62 %\n",
      "Erreur absolue moyenne (MAE): 2.0\n"
     ]
    }
   ],
   "source": [
    "print(\"Erreur quadratique moyenne (MSE) :\", round(mse,2))\n",
    "print(\"Coefficient de détermination (R2) :\", round(r2*100,2), \"%\")\n",
    "mae = mean_absolute_error(y_test, y_pred)\n",
    "print(\"Erreur absolue moyenne (MAE):\", round(mae,2))"
   ]
  },
  {
   "cell_type": "code",
   "execution_count": 227,
   "metadata": {},
   "outputs": [
    {
     "data": {
      "text/html": [
       "<div>\n",
       "<style scoped>\n",
       "    .dataframe tbody tr th:only-of-type {\n",
       "        vertical-align: middle;\n",
       "    }\n",
       "\n",
       "    .dataframe tbody tr th {\n",
       "        vertical-align: top;\n",
       "    }\n",
       "\n",
       "    .dataframe thead th {\n",
       "        text-align: right;\n",
       "    }\n",
       "</style>\n",
       "<table border=\"1\" class=\"dataframe\">\n",
       "  <thead>\n",
       "    <tr style=\"text-align: right;\">\n",
       "      <th></th>\n",
       "      <th>passenger_count</th>\n",
       "      <th>trip_distance</th>\n",
       "      <th>PULocationID</th>\n",
       "      <th>DOLocationID</th>\n",
       "      <th>payment_type</th>\n",
       "      <th>total_amount</th>\n",
       "      <th>mois</th>\n",
       "      <th>jour</th>\n",
       "      <th>annee</th>\n",
       "      <th>heure</th>\n",
       "      <th>minute</th>\n",
       "      <th>joursemaine</th>\n",
       "      <th>durée</th>\n",
       "      <th>duree3</th>\n",
       "    </tr>\n",
       "  </thead>\n",
       "  <tbody>\n",
       "    <tr>\n",
       "      <th>0</th>\n",
       "      <td>1</td>\n",
       "      <td>0.00</td>\n",
       "      <td>238</td>\n",
       "      <td>42</td>\n",
       "      <td>2</td>\n",
       "      <td>11.10</td>\n",
       "      <td>3</td>\n",
       "      <td>1</td>\n",
       "      <td>2023</td>\n",
       "      <td>0</td>\n",
       "      <td>6</td>\n",
       "      <td>2</td>\n",
       "      <td>0 days 00:10:00</td>\n",
       "      <td>10.000000</td>\n",
       "    </tr>\n",
       "    <tr>\n",
       "      <th>1</th>\n",
       "      <td>2</td>\n",
       "      <td>12.40</td>\n",
       "      <td>138</td>\n",
       "      <td>231</td>\n",
       "      <td>1</td>\n",
       "      <td>76.49</td>\n",
       "      <td>3</td>\n",
       "      <td>1</td>\n",
       "      <td>2023</td>\n",
       "      <td>0</td>\n",
       "      <td>8</td>\n",
       "      <td>2</td>\n",
       "      <td>0 days 00:31:05</td>\n",
       "      <td>31.083333</td>\n",
       "    </tr>\n",
       "    <tr>\n",
       "      <th>3</th>\n",
       "      <td>1</td>\n",
       "      <td>2.90</td>\n",
       "      <td>140</td>\n",
       "      <td>43</td>\n",
       "      <td>1</td>\n",
       "      <td>24.70</td>\n",
       "      <td>3</td>\n",
       "      <td>1</td>\n",
       "      <td>2023</td>\n",
       "      <td>0</td>\n",
       "      <td>49</td>\n",
       "      <td>2</td>\n",
       "      <td>0 days 00:11:28</td>\n",
       "      <td>11.466667</td>\n",
       "    </tr>\n",
       "    <tr>\n",
       "      <th>4</th>\n",
       "      <td>1</td>\n",
       "      <td>1.23</td>\n",
       "      <td>79</td>\n",
       "      <td>137</td>\n",
       "      <td>1</td>\n",
       "      <td>14.64</td>\n",
       "      <td>3</td>\n",
       "      <td>1</td>\n",
       "      <td>2023</td>\n",
       "      <td>0</td>\n",
       "      <td>8</td>\n",
       "      <td>2</td>\n",
       "      <td>0 days 00:03:02</td>\n",
       "      <td>3.033333</td>\n",
       "    </tr>\n",
       "    <tr>\n",
       "      <th>5</th>\n",
       "      <td>1</td>\n",
       "      <td>1.20</td>\n",
       "      <td>162</td>\n",
       "      <td>137</td>\n",
       "      <td>1</td>\n",
       "      <td>18.00</td>\n",
       "      <td>3</td>\n",
       "      <td>1</td>\n",
       "      <td>2023</td>\n",
       "      <td>0</td>\n",
       "      <td>9</td>\n",
       "      <td>2</td>\n",
       "      <td>0 days 00:08:25</td>\n",
       "      <td>8.416667</td>\n",
       "    </tr>\n",
       "  </tbody>\n",
       "</table>\n",
       "</div>"
      ],
      "text/plain": [
       "   passenger_count  trip_distance  PULocationID  DOLocationID  payment_type  \\\n",
       "0                1           0.00           238            42             2   \n",
       "1                2          12.40           138           231             1   \n",
       "3                1           2.90           140            43             1   \n",
       "4                1           1.23            79           137             1   \n",
       "5                1           1.20           162           137             1   \n",
       "\n",
       "   total_amount  mois  jour  annee  heure  minute  joursemaine  \\\n",
       "0         11.10     3     1   2023      0       6            2   \n",
       "1         76.49     3     1   2023      0       8            2   \n",
       "3         24.70     3     1   2023      0      49            2   \n",
       "4         14.64     3     1   2023      0       8            2   \n",
       "5         18.00     3     1   2023      0       9            2   \n",
       "\n",
       "            durée     duree3  \n",
       "0 0 days 00:10:00  10.000000  \n",
       "1 0 days 00:31:05  31.083333  \n",
       "3 0 days 00:11:28  11.466667  \n",
       "4 0 days 00:03:02   3.033333  \n",
       "5 0 days 00:08:25   8.416667  "
      ]
     },
     "execution_count": 227,
     "metadata": {},
     "output_type": "execute_result"
    }
   ],
   "source": [
    "dataframe.head()"
   ]
  },
  {
   "cell_type": "code",
   "execution_count": 237,
   "metadata": {},
   "outputs": [
    {
     "name": "stdout",
     "output_type": "stream",
     "text": [
      "1/1 [==============================] - 0s 25ms/step\n",
      "[[42490.07]]\n"
     ]
    }
   ],
   "source": [
    "#X = dataframe[['passenger_count','trip_distance','PULocationID','DOLocationID','payment_type', 'mois','jour','annee','heure','minute','joursemaine','duree3']]  # Caractéristiques\n",
    "\n",
    "test = pd.DataFrame({'passenger_count': [3],'trip_distance': [12.40],'PULocationID': [138],\n",
    " 'DOLocationID': [231],'payment_type':[2], 'mois': [3],'jour': [1],'annee': [2023],'heure': [0],'minute': [6],'joursemaine': [2], 'duree3': [31]})\n",
    "\n",
    "\n",
    "\n",
    "prediction1 = model.predict(test)\n",
    "print(prediction1)"
   ]
  },
  {
   "cell_type": "code",
   "execution_count": 231,
   "metadata": {},
   "outputs": [
    {
     "data": {
      "text/html": [
       "<div>\n",
       "<style scoped>\n",
       "    .dataframe tbody tr th:only-of-type {\n",
       "        vertical-align: middle;\n",
       "    }\n",
       "\n",
       "    .dataframe tbody tr th {\n",
       "        vertical-align: top;\n",
       "    }\n",
       "\n",
       "    .dataframe thead th {\n",
       "        text-align: right;\n",
       "    }\n",
       "</style>\n",
       "<table border=\"1\" class=\"dataframe\">\n",
       "  <thead>\n",
       "    <tr style=\"text-align: right;\">\n",
       "      <th></th>\n",
       "      <th>passenger_count</th>\n",
       "      <th>trip_distance</th>\n",
       "      <th>PULocationID</th>\n",
       "      <th>DOLocationID</th>\n",
       "      <th>payment_type</th>\n",
       "      <th>mois</th>\n",
       "      <th>jour</th>\n",
       "      <th>annee</th>\n",
       "      <th>heure</th>\n",
       "      <th>minute</th>\n",
       "      <th>joursemaine</th>\n",
       "      <th>duree3</th>\n",
       "    </tr>\n",
       "  </thead>\n",
       "  <tbody>\n",
       "    <tr>\n",
       "      <th>0</th>\n",
       "      <td>2</td>\n",
       "      <td>12.4</td>\n",
       "      <td>138</td>\n",
       "      <td>231</td>\n",
       "      <td>2</td>\n",
       "      <td>3</td>\n",
       "      <td>1</td>\n",
       "      <td>2023</td>\n",
       "      <td>0</td>\n",
       "      <td>6</td>\n",
       "      <td>2</td>\n",
       "      <td>31</td>\n",
       "    </tr>\n",
       "  </tbody>\n",
       "</table>\n",
       "</div>"
      ],
      "text/plain": [
       "   passenger_count  trip_distance  PULocationID  DOLocationID  payment_type  \\\n",
       "0                2           12.4           138           231             2   \n",
       "\n",
       "   mois  jour  annee  heure  minute  joursemaine  duree3  \n",
       "0     3     1   2023      0       6            2      31  "
      ]
     },
     "execution_count": 231,
     "metadata": {},
     "output_type": "execute_result"
    }
   ],
   "source": [
    "test"
   ]
  },
  {
   "cell_type": "code",
   "execution_count": 234,
   "metadata": {},
   "outputs": [
    {
     "data": {
      "text/plain": [
       "pandas.core.frame.DataFrame"
      ]
     },
     "execution_count": 234,
     "metadata": {},
     "output_type": "execute_result"
    }
   ],
   "source": [
    "type(test)"
   ]
  },
  {
   "cell_type": "code",
   "execution_count": 238,
   "metadata": {},
   "outputs": [
    {
     "data": {
      "text/plain": [
       "0          11.10\n",
       "1          76.49\n",
       "3          24.70\n",
       "4          14.64\n",
       "5          18.00\n",
       "           ...  \n",
       "3403761    20.36\n",
       "3403762    53.90\n",
       "3403763    28.02\n",
       "3403764    16.01\n",
       "3403765    17.26\n",
       "Name: total_amount, Length: 3311332, dtype: float64"
      ]
     },
     "execution_count": 238,
     "metadata": {},
     "output_type": "execute_result"
    }
   ],
   "source": [
    "Y"
   ]
  },
  {
   "cell_type": "code",
   "execution_count": 232,
   "metadata": {},
   "outputs": [
    {
     "data": {
      "text/html": [
       "<div>\n",
       "<style scoped>\n",
       "    .dataframe tbody tr th:only-of-type {\n",
       "        vertical-align: middle;\n",
       "    }\n",
       "\n",
       "    .dataframe tbody tr th {\n",
       "        vertical-align: top;\n",
       "    }\n",
       "\n",
       "    .dataframe thead th {\n",
       "        text-align: right;\n",
       "    }\n",
       "</style>\n",
       "<table border=\"1\" class=\"dataframe\">\n",
       "  <thead>\n",
       "    <tr style=\"text-align: right;\">\n",
       "      <th></th>\n",
       "      <th>passenger_count</th>\n",
       "      <th>trip_distance</th>\n",
       "      <th>PULocationID</th>\n",
       "      <th>DOLocationID</th>\n",
       "      <th>payment_type</th>\n",
       "      <th>mois</th>\n",
       "      <th>jour</th>\n",
       "      <th>annee</th>\n",
       "      <th>heure</th>\n",
       "      <th>minute</th>\n",
       "      <th>joursemaine</th>\n",
       "      <th>duree3</th>\n",
       "    </tr>\n",
       "  </thead>\n",
       "  <tbody>\n",
       "    <tr>\n",
       "      <th>0</th>\n",
       "      <td>1</td>\n",
       "      <td>0.00</td>\n",
       "      <td>238</td>\n",
       "      <td>42</td>\n",
       "      <td>2</td>\n",
       "      <td>3</td>\n",
       "      <td>1</td>\n",
       "      <td>2023</td>\n",
       "      <td>0</td>\n",
       "      <td>6</td>\n",
       "      <td>2</td>\n",
       "      <td>10.000000</td>\n",
       "    </tr>\n",
       "    <tr>\n",
       "      <th>1</th>\n",
       "      <td>2</td>\n",
       "      <td>12.40</td>\n",
       "      <td>138</td>\n",
       "      <td>231</td>\n",
       "      <td>1</td>\n",
       "      <td>3</td>\n",
       "      <td>1</td>\n",
       "      <td>2023</td>\n",
       "      <td>0</td>\n",
       "      <td>8</td>\n",
       "      <td>2</td>\n",
       "      <td>31.083333</td>\n",
       "    </tr>\n",
       "    <tr>\n",
       "      <th>3</th>\n",
       "      <td>1</td>\n",
       "      <td>2.90</td>\n",
       "      <td>140</td>\n",
       "      <td>43</td>\n",
       "      <td>1</td>\n",
       "      <td>3</td>\n",
       "      <td>1</td>\n",
       "      <td>2023</td>\n",
       "      <td>0</td>\n",
       "      <td>49</td>\n",
       "      <td>2</td>\n",
       "      <td>11.466667</td>\n",
       "    </tr>\n",
       "    <tr>\n",
       "      <th>4</th>\n",
       "      <td>1</td>\n",
       "      <td>1.23</td>\n",
       "      <td>79</td>\n",
       "      <td>137</td>\n",
       "      <td>1</td>\n",
       "      <td>3</td>\n",
       "      <td>1</td>\n",
       "      <td>2023</td>\n",
       "      <td>0</td>\n",
       "      <td>8</td>\n",
       "      <td>2</td>\n",
       "      <td>3.033333</td>\n",
       "    </tr>\n",
       "    <tr>\n",
       "      <th>5</th>\n",
       "      <td>1</td>\n",
       "      <td>1.20</td>\n",
       "      <td>162</td>\n",
       "      <td>137</td>\n",
       "      <td>1</td>\n",
       "      <td>3</td>\n",
       "      <td>1</td>\n",
       "      <td>2023</td>\n",
       "      <td>0</td>\n",
       "      <td>9</td>\n",
       "      <td>2</td>\n",
       "      <td>8.416667</td>\n",
       "    </tr>\n",
       "    <tr>\n",
       "      <th>...</th>\n",
       "      <td>...</td>\n",
       "      <td>...</td>\n",
       "      <td>...</td>\n",
       "      <td>...</td>\n",
       "      <td>...</td>\n",
       "      <td>...</td>\n",
       "      <td>...</td>\n",
       "      <td>...</td>\n",
       "      <td>...</td>\n",
       "      <td>...</td>\n",
       "      <td>...</td>\n",
       "      <td>...</td>\n",
       "    </tr>\n",
       "    <tr>\n",
       "      <th>3403761</th>\n",
       "      <td>1</td>\n",
       "      <td>3.16</td>\n",
       "      <td>163</td>\n",
       "      <td>75</td>\n",
       "      <td>0</td>\n",
       "      <td>3</td>\n",
       "      <td>31</td>\n",
       "      <td>2023</td>\n",
       "      <td>23</td>\n",
       "      <td>24</td>\n",
       "      <td>4</td>\n",
       "      <td>16.483333</td>\n",
       "    </tr>\n",
       "    <tr>\n",
       "      <th>3403762</th>\n",
       "      <td>1</td>\n",
       "      <td>6.89</td>\n",
       "      <td>125</td>\n",
       "      <td>198</td>\n",
       "      <td>0</td>\n",
       "      <td>3</td>\n",
       "      <td>31</td>\n",
       "      <td>2023</td>\n",
       "      <td>23</td>\n",
       "      <td>24</td>\n",
       "      <td>4</td>\n",
       "      <td>39.366667</td>\n",
       "    </tr>\n",
       "    <tr>\n",
       "      <th>3403763</th>\n",
       "      <td>1</td>\n",
       "      <td>4.01</td>\n",
       "      <td>50</td>\n",
       "      <td>224</td>\n",
       "      <td>0</td>\n",
       "      <td>3</td>\n",
       "      <td>31</td>\n",
       "      <td>2023</td>\n",
       "      <td>23</td>\n",
       "      <td>26</td>\n",
       "      <td>4</td>\n",
       "      <td>23.133333</td>\n",
       "    </tr>\n",
       "    <tr>\n",
       "      <th>3403764</th>\n",
       "      <td>1</td>\n",
       "      <td>1.31</td>\n",
       "      <td>113</td>\n",
       "      <td>158</td>\n",
       "      <td>0</td>\n",
       "      <td>3</td>\n",
       "      <td>31</td>\n",
       "      <td>2023</td>\n",
       "      <td>23</td>\n",
       "      <td>7</td>\n",
       "      <td>4</td>\n",
       "      <td>8.083333</td>\n",
       "    </tr>\n",
       "    <tr>\n",
       "      <th>3403765</th>\n",
       "      <td>1</td>\n",
       "      <td>0.88</td>\n",
       "      <td>41</td>\n",
       "      <td>166</td>\n",
       "      <td>0</td>\n",
       "      <td>3</td>\n",
       "      <td>31</td>\n",
       "      <td>2023</td>\n",
       "      <td>23</td>\n",
       "      <td>26</td>\n",
       "      <td>4</td>\n",
       "      <td>5.583333</td>\n",
       "    </tr>\n",
       "  </tbody>\n",
       "</table>\n",
       "<p>3311332 rows × 12 columns</p>\n",
       "</div>"
      ],
      "text/plain": [
       "         passenger_count  trip_distance  PULocationID  DOLocationID  \\\n",
       "0                      1           0.00           238            42   \n",
       "1                      2          12.40           138           231   \n",
       "3                      1           2.90           140            43   \n",
       "4                      1           1.23            79           137   \n",
       "5                      1           1.20           162           137   \n",
       "...                  ...            ...           ...           ...   \n",
       "3403761                1           3.16           163            75   \n",
       "3403762                1           6.89           125           198   \n",
       "3403763                1           4.01            50           224   \n",
       "3403764                1           1.31           113           158   \n",
       "3403765                1           0.88            41           166   \n",
       "\n",
       "         payment_type  mois  jour  annee  heure  minute  joursemaine  \\\n",
       "0                   2     3     1   2023      0       6            2   \n",
       "1                   1     3     1   2023      0       8            2   \n",
       "3                   1     3     1   2023      0      49            2   \n",
       "4                   1     3     1   2023      0       8            2   \n",
       "5                   1     3     1   2023      0       9            2   \n",
       "...               ...   ...   ...    ...    ...     ...          ...   \n",
       "3403761             0     3    31   2023     23      24            4   \n",
       "3403762             0     3    31   2023     23      24            4   \n",
       "3403763             0     3    31   2023     23      26            4   \n",
       "3403764             0     3    31   2023     23       7            4   \n",
       "3403765             0     3    31   2023     23      26            4   \n",
       "\n",
       "            duree3  \n",
       "0        10.000000  \n",
       "1        31.083333  \n",
       "3        11.466667  \n",
       "4         3.033333  \n",
       "5         8.416667  \n",
       "...            ...  \n",
       "3403761  16.483333  \n",
       "3403762  39.366667  \n",
       "3403763  23.133333  \n",
       "3403764   8.083333  \n",
       "3403765   5.583333  \n",
       "\n",
       "[3311332 rows x 12 columns]"
      ]
     },
     "execution_count": 232,
     "metadata": {},
     "output_type": "execute_result"
    }
   ],
   "source": [
    "X"
   ]
  },
  {
   "cell_type": "code",
   "execution_count": null,
   "metadata": {},
   "outputs": [],
   "source": []
  }
 ],
 "metadata": {
  "colab": {
   "provenance": []
  },
  "kernelspec": {
   "display_name": "Python 3 (ipykernel)",
   "language": "python",
   "name": "python3"
  },
  "language_info": {
   "codemirror_mode": {
    "name": "ipython",
    "version": 3
   },
   "file_extension": ".py",
   "mimetype": "text/x-python",
   "name": "python",
   "nbconvert_exporter": "python",
   "pygments_lexer": "ipython3",
   "version": "3.9.13"
  }
 },
 "nbformat": 4,
 "nbformat_minor": 1
}
